{
  "nbformat": 4,
  "nbformat_minor": 0,
  "metadata": {
    "accelerator": "GPU",
    "colab": {
      "name": "starter_notebook_reverse_training.ipynb",
      "provenance": [],
      "collapsed_sections": [],
      "include_colab_link": true
    },
    "kernelspec": {
      "display_name": "Python 3",
      "language": "python",
      "name": "python3"
    },
    "language_info": {
      "codemirror_mode": {
        "name": "ipython",
        "version": 3
      },
      "file_extension": ".py",
      "mimetype": "text/x-python",
      "name": "python",
      "nbconvert_exporter": "python",
      "pygments_lexer": "ipython3",
      "version": "3.7.3"
    }
  },
  "cells": [
    {
      "cell_type": "markdown",
      "metadata": {
        "id": "view-in-github",
        "colab_type": "text"
      },
      "source": [
        "<a href=\"https://colab.research.google.com/github/godide/masakhane-mt/blob/master/starter_notebook_zu2english.ipynb\" target=\"_parent\"><img src=\"https://colab.research.google.com/assets/colab-badge.svg\" alt=\"Open In Colab\"/></a>"
      ]
    },
    {
      "cell_type": "markdown",
      "metadata": {
        "id": "Igc5itf-xMGj"
      },
      "source": [
        "# Masakhane - Reverse Machine Translation for African Languages (Using JoeyNMT)"
      ]
    },
    {
      "cell_type": "markdown",
      "metadata": {
        "id": "68CDUfdH0dIB"
      },
      "source": [
        "> ## NB\n",
        ">### - The purpose of this Notebook is to build models that translate African languages(target language) *into* English(source language). This will allow us to in future be able to make translations from one African language to the other. If you'd like to translate *from* English, please use [this](https://github.com/masakhane-io/masakhane-mt/blob/master/starter_notebook.ipynb) starter notebook instead.\n",
        "\n",
        ">### - We call this reverse training because normally we build models that make translations from the source language(English) to the target language. But in this case we are doing the reverse; building models that make translations from the target language to the source(English)"
      ]
    },
    {
      "cell_type": "markdown",
      "metadata": {
        "id": "x4fXCKCf36IK"
      },
      "source": [
        "## Note before beginning:\n",
        "### - The idea is that you should be able to make minimal changes to this in order to get SOME result for your own translation corpus. \n",
        "\n",
        "### - The tl;dr: Go to the **\"TODO\"** comments which will tell you what to update to get up and running\n",
        "\n",
        "### - If you actually want to have a clue what you're doing, read the text and peek at the links\n",
        "\n",
        "### - With 100 epochs, it should take around 7 hours to run in Google Colab\n",
        "\n",
        "### - Once you've gotten a result for your language, please attach and email your notebook that generated it to masakhanetranslation@gmail.com\n",
        "\n",
        "### - If you care enough and get a chance, doing a brief background on your language would be amazing. See examples in  [(Martinus, 2019)](https://arxiv.org/abs/1906.05685)"
      ]
    },
    {
      "cell_type": "markdown",
      "metadata": {
        "id": "l929HimrxS0a"
      },
      "source": [
        "## Retrieve your data & make a parallel corpus\n",
        "\n",
        "If you are wanting to use the JW300 data referenced on the Masakhane website or in our GitHub repo, you can use `opus-tools` to convert the data into a convenient format. `opus_read` from that package provides a convenient tool for reading the native aligned XML files and to convert them to TMX format. The tool can also be used to fetch relevant files from OPUS on the fly and to filter the data as necessary. [Read the documentation](https://pypi.org/project/opustools-pkg/) for more details.\n",
        "\n",
        "Once you have your corpus files in TMX format (an xml structure which will include the sentences in your target language and your source language in a single file), we recommend reading them into a pandas dataframe. Thankfully, Jade wrote a silly `tmx2dataframe` package which converts your tmx file to a pandas dataframe. "
      ]
    },
    {
      "cell_type": "code",
      "metadata": {
        "colab": {
          "base_uri": "https://localhost:8080/"
        },
        "id": "oGRmDELn7Az0",
        "outputId": "e9c87f69-3474-43ce-ce3d-02ebaa335efc"
      },
      "source": [
        "from google.colab import drive\n",
        "drive.mount('/content/drive')"
      ],
      "execution_count": 1,
      "outputs": [
        {
          "output_type": "stream",
          "name": "stdout",
          "text": [
            "Drive already mounted at /content/drive; to attempt to forcibly remount, call drive.mount(\"/content/drive\", force_remount=True).\n"
          ]
        }
      ]
    },
    {
      "cell_type": "code",
      "metadata": {
        "id": "Cn3tgQLzUxwn"
      },
      "source": [
        "# TODO: Set your source and target languages. Keep in mind, these traditionally use language codes as found here:\n",
        "# These will also become the suffix's of all vocab and corpus files used throughout\n",
        "import os\n",
        "source_language = \"en\"\n",
        "target_language = \"zu\" \n",
        "lc = False  # If True, lowercase the data.\n",
        "seed = 42  # Random seed for shuffling.\n",
        "tag = \"baseline\" # Give a unique name to your folder - this is to ensure you don't rewrite any models you've already submitted\n",
        "\n",
        "os.environ[\"src\"] = source_language # Sets them in bash as well, since we often use bash scripts\n",
        "os.environ[\"tgt\"] = target_language\n",
        "os.environ[\"tag\"] = tag\n",
        "\n",
        "# This will save it to a folder in our gdrive instead!\n",
        "!mkdir -p \"/content/drive/My Drive/masakhane/$tgt-$src-$tag\"\n",
        "os.environ[\"gdrive_path\"] = \"/content/drive/My Drive/masakhane/%s-%s-%s\" % (target_language, source_language, tag)"
      ],
      "execution_count": 2,
      "outputs": []
    },
    {
      "cell_type": "code",
      "metadata": {
        "colab": {
          "base_uri": "https://localhost:8080/"
        },
        "id": "kBSgJHEw7Nvx",
        "outputId": "fcaedde6-b28f-4be2-c0dd-e64a4fa25999"
      },
      "source": [
        "!echo $gdrive_path"
      ],
      "execution_count": 3,
      "outputs": [
        {
          "output_type": "stream",
          "name": "stdout",
          "text": [
            "/content/drive/My Drive/masakhane/zu-en-baseline\n"
          ]
        }
      ]
    },
    {
      "cell_type": "code",
      "metadata": {
        "colab": {
          "base_uri": "https://localhost:8080/"
        },
        "id": "gA75Fs9ys8Y9",
        "outputId": "fda3ca4a-09d0-4774-fa87-cdf1cf862b09"
      },
      "source": [
        "# Install opus-tools\n",
        "! pip install opustools-pkg"
      ],
      "execution_count": 4,
      "outputs": [
        {
          "output_type": "stream",
          "name": "stdout",
          "text": [
            "Requirement already satisfied: opustools-pkg in /usr/local/lib/python3.7/dist-packages (0.0.52)\n"
          ]
        }
      ]
    },
    {
      "cell_type": "code",
      "metadata": {
        "id": "xq-tDZVks7ZD"
      },
      "source": [
        "# Downloading our corpus\n",
        "! opus_read -d JW300 -s $src -t $tgt -wm moses -w jw300.$src jw300.$tgt -q\n",
        "\n",
        "# extract the corpus file\n",
        "! gunzip JW300_latest_xml_$src-$tgt.xml.gz"
      ],
      "execution_count": 5,
      "outputs": []
    },
    {
      "cell_type": "code",
      "metadata": {
        "colab": {
          "base_uri": "https://localhost:8080/"
        },
        "id": "n48GDRnP8y2G",
        "outputId": "dbfff703-13b3-4f9e-abfe-687a9624a628"
      },
      "source": [
        "# Download the global test set.\n",
        "! wget https://raw.githubusercontent.com/juliakreutzer/masakhane/master/jw300_utils/test/test.en-any.en\n",
        "  \n",
        "# And the specific test set for this language pair.\n",
        "os.environ[\"trg\"] = target_language \n",
        "os.environ[\"src\"] = source_language \n",
        "\n",
        "! wget https://raw.githubusercontent.com/juliakreutzer/masakhane/master/jw300_utils/test/test.en-$trg.en \n",
        "! mv test.en-$trg.en test.en\n",
        "! wget https://raw.githubusercontent.com/juliakreutzer/masakhane/master/jw300_utils/test/test.en-$trg.$trg \n",
        "! mv test.en-$trg.$trg test.$trg\n",
        "\n",
        "#! wget https://raw.githubusercontent.com/juliakreutzer/masakhane/master/jw300_utils/test/test.en-zu.en \n",
        "#! mv test.en-zu.en test.en\n",
        "#! wget https://raw.githubusercontent.com/juliakreutzer/masakhane/master/jw300_utils/test/test.en-zu.zu \n",
        "#! mv test.en-zu.zu test.zu"
      ],
      "execution_count": 6,
      "outputs": [
        {
          "output_type": "stream",
          "name": "stdout",
          "text": [
            "--2021-10-11 03:27:34--  https://raw.githubusercontent.com/juliakreutzer/masakhane/master/jw300_utils/test/test.en-any.en\n",
            "Resolving raw.githubusercontent.com (raw.githubusercontent.com)... 185.199.108.133, 185.199.109.133, 185.199.110.133, ...\n",
            "Connecting to raw.githubusercontent.com (raw.githubusercontent.com)|185.199.108.133|:443... connected.\n",
            "HTTP request sent, awaiting response... 200 OK\n",
            "Length: 277791 (271K) [text/plain]\n",
            "Saving to: ‘test.en-any.en.1’\n",
            "\n",
            "\rtest.en-any.en.1      0%[                    ]       0  --.-KB/s               \rtest.en-any.en.1    100%[===================>] 271.28K  --.-KB/s    in 0.006s  \n",
            "\n",
            "2021-10-11 03:27:34 (44.0 MB/s) - ‘test.en-any.en.1’ saved [277791/277791]\n",
            "\n",
            "--2021-10-11 03:27:34--  https://raw.githubusercontent.com/juliakreutzer/masakhane/master/jw300_utils/test/test.en-zu.en\n",
            "Resolving raw.githubusercontent.com (raw.githubusercontent.com)... 185.199.108.133, 185.199.109.133, 185.199.110.133, ...\n",
            "Connecting to raw.githubusercontent.com (raw.githubusercontent.com)|185.199.108.133|:443... connected.\n",
            "HTTP request sent, awaiting response... 200 OK\n",
            "Length: 206207 (201K) [text/plain]\n",
            "Saving to: ‘test.en-zu.en’\n",
            "\n",
            "test.en-zu.en       100%[===================>] 201.37K  --.-KB/s    in 0.004s  \n",
            "\n",
            "2021-10-11 03:27:34 (50.4 MB/s) - ‘test.en-zu.en’ saved [206207/206207]\n",
            "\n",
            "--2021-10-11 03:27:35--  https://raw.githubusercontent.com/juliakreutzer/masakhane/master/jw300_utils/test/test.en-zu.zu\n",
            "Resolving raw.githubusercontent.com (raw.githubusercontent.com)... 185.199.109.133, 185.199.108.133, 185.199.110.133, ...\n",
            "Connecting to raw.githubusercontent.com (raw.githubusercontent.com)|185.199.109.133|:443... connected.\n",
            "HTTP request sent, awaiting response... 200 OK\n",
            "Length: 218273 (213K) [text/plain]\n",
            "Saving to: ‘test.en-zu.zu’\n",
            "\n",
            "test.en-zu.zu       100%[===================>] 213.16K  --.-KB/s    in 0.004s  \n",
            "\n",
            "2021-10-11 03:27:35 (59.4 MB/s) - ‘test.en-zu.zu’ saved [218273/218273]\n",
            "\n"
          ]
        }
      ]
    },
    {
      "cell_type": "code",
      "metadata": {
        "colab": {
          "base_uri": "https://localhost:8080/"
        },
        "id": "NqDG-CI28y2L",
        "outputId": "57a891cb-5df0-477d-de17-4347cc75364b"
      },
      "source": [
        "# Read the test data to filter from train and dev splits.\n",
        "# Store english portion in set for quick filtering checks.\n",
        "en_test_sents = set()\n",
        "filter_test_sents = \"test.en-any.en\"\n",
        "j = 0\n",
        "with open(filter_test_sents) as f:\n",
        "  for line in f:\n",
        "    en_test_sents.add(line.strip())\n",
        "    j += 1\n",
        "print('Loaded {} global test sentences to filter from the training/dev data.'.format(j))"
      ],
      "execution_count": 7,
      "outputs": [
        {
          "output_type": "stream",
          "name": "stdout",
          "text": [
            "Loaded 3571 global test sentences to filter from the training/dev data.\n"
          ]
        }
      ]
    },
    {
      "cell_type": "code",
      "metadata": {
        "colab": {
          "base_uri": "https://localhost:8080/",
          "height": 159
        },
        "id": "3CNdwLBCfSIl",
        "outputId": "0c6c5662-a0cf-41cb-dabe-93aedae966f9"
      },
      "source": [
        "import pandas as pd\n",
        "\n",
        "# TMX file to dataframe\n",
        "source_file = 'jw300.' + source_language\n",
        "target_file = 'jw300.' + target_language\n",
        "\n",
        "source = []\n",
        "target = []\n",
        "skip_lines = []  # Collect the line numbers of the source portion to skip the same lines for the target portion.\n",
        "with open(source_file) as f:\n",
        "    for i, line in enumerate(f):\n",
        "        # Skip sentences that are contained in the test set.\n",
        "        if line.strip() not in en_test_sents:\n",
        "            source.append(line.strip())\n",
        "        else:\n",
        "            skip_lines.append(i)             \n",
        "with open(target_file) as f:\n",
        "    for j, line in enumerate(f):\n",
        "        # Only add to corpus if corresponding source was not skipped.\n",
        "        if j not in skip_lines:\n",
        "            target.append(line.strip())\n",
        "    \n",
        "print('Loaded data and skipped {}/{} lines since contained in test set.'.format(len(skip_lines), i))\n",
        "    \n",
        "df = pd.DataFrame(zip(source, target), columns=['source_sentence', 'target_sentence'])\n",
        "# if you get TypeError: data argument can't be an iterator is because of your zip version run this below\n",
        "#df = pd.DataFrame(list(zip(source, target)), columns=['source_sentence', 'target_sentence'])\n",
        "df.head(3)"
      ],
      "execution_count": 8,
      "outputs": [
        {
          "output_type": "stream",
          "name": "stdout",
          "text": [
            "Loaded data and skipped 5402/1046571 lines since contained in test set.\n"
          ]
        },
        {
          "output_type": "execute_result",
          "data": {
            "text/html": [
              "<div>\n",
              "<style scoped>\n",
              "    .dataframe tbody tr th:only-of-type {\n",
              "        vertical-align: middle;\n",
              "    }\n",
              "\n",
              "    .dataframe tbody tr th {\n",
              "        vertical-align: top;\n",
              "    }\n",
              "\n",
              "    .dataframe thead th {\n",
              "        text-align: right;\n",
              "    }\n",
              "</style>\n",
              "<table border=\"1\" class=\"dataframe\">\n",
              "  <thead>\n",
              "    <tr style=\"text-align: right;\">\n",
              "      <th></th>\n",
              "      <th>source_sentence</th>\n",
              "      <th>target_sentence</th>\n",
              "    </tr>\n",
              "  </thead>\n",
              "  <tbody>\n",
              "    <tr>\n",
              "      <th>0</th>\n",
              "      <td>Unity in Worship — What Should It Mean for You ?</td>\n",
              "      <td>Ubunye Ekukhulekeleni — Kumelwe Busho Ukuthini...</td>\n",
              "    </tr>\n",
              "    <tr>\n",
              "      <th>1</th>\n",
              "      <td>As we draw closer and closer to the end of thi...</td>\n",
              "      <td>Njengoba silokhu sisondela ekupheleni kwalesim...</td>\n",
              "    </tr>\n",
              "    <tr>\n",
              "      <th>2</th>\n",
              "      <td>So it is more difficult , and yet more urgent ...</td>\n",
              "      <td>Ngakho kunzima ngokwengeziwe , futhi kuphuthum...</td>\n",
              "    </tr>\n",
              "  </tbody>\n",
              "</table>\n",
              "</div>"
            ],
            "text/plain": [
              "                                     source_sentence                                    target_sentence\n",
              "0   Unity in Worship — What Should It Mean for You ?  Ubunye Ekukhulekeleni — Kumelwe Busho Ukuthini...\n",
              "1  As we draw closer and closer to the end of thi...  Njengoba silokhu sisondela ekupheleni kwalesim...\n",
              "2  So it is more difficult , and yet more urgent ...  Ngakho kunzima ngokwengeziwe , futhi kuphuthum..."
            ]
          },
          "metadata": {},
          "execution_count": 8
        }
      ]
    },
    {
      "cell_type": "markdown",
      "metadata": {
        "id": "YkuK3B4p2AkN"
      },
      "source": [
        "## Pre-processing and export\n",
        "\n",
        "It is generally a good idea to remove duplicate translations and conflicting translations from the corpus. In practice, these public corpora include some number of these that need to be cleaned.\n",
        "\n",
        "In addition we will split our data into dev/test/train and export to the filesystem."
      ]
    },
    {
      "cell_type": "code",
      "metadata": {
        "colab": {
          "base_uri": "https://localhost:8080/"
        },
        "id": "M_2ouEOH1_1q",
        "outputId": "5ef446fe-6652-4f6a-829c-10893966d1b1"
      },
      "source": [
        "# drop duplicate translations\n",
        "df_pp = df.drop_duplicates()\n",
        "\n",
        "# drop conflicting translations\n",
        "# (this is optional and something that you might want to comment out \n",
        "# depending on the size of your corpus)\n",
        "df_pp.drop_duplicates(subset='source_sentence', inplace=True)\n",
        "df_pp.drop_duplicates(subset='target_sentence', inplace=True)\n",
        "\n",
        "# Shuffle the data to remove bias in dev set selection.\n",
        "df_pp = df_pp.sample(frac=1, random_state=seed).reset_index(drop=True)"
      ],
      "execution_count": 9,
      "outputs": [
        {
          "output_type": "stream",
          "name": "stderr",
          "text": [
            "/usr/local/lib/python3.7/dist-packages/ipykernel_launcher.py:7: SettingWithCopyWarning: \n",
            "A value is trying to be set on a copy of a slice from a DataFrame\n",
            "\n",
            "See the caveats in the documentation: https://pandas.pydata.org/pandas-docs/stable/user_guide/indexing.html#returning-a-view-versus-a-copy\n",
            "  import sys\n",
            "/usr/local/lib/python3.7/dist-packages/ipykernel_launcher.py:8: SettingWithCopyWarning: \n",
            "A value is trying to be set on a copy of a slice from a DataFrame\n",
            "\n",
            "See the caveats in the documentation: https://pandas.pydata.org/pandas-docs/stable/user_guide/indexing.html#returning-a-view-versus-a-copy\n",
            "  \n"
          ]
        }
      ]
    },
    {
      "cell_type": "code",
      "metadata": {
        "colab": {
          "base_uri": "https://localhost:8080/"
        },
        "id": "Z_1BwAApEtMk",
        "outputId": "4cf62db0-239f-4cd0-940f-802cf096def8"
      },
      "source": [
        "# Install fuzzy wuzzy to remove \"almost duplicate\" sentences in the\n",
        "# test and training sets.\n",
        "! pip install fuzzywuzzy\n",
        "! pip install python-Levenshtein\n",
        "import time\n",
        "from fuzzywuzzy import process\n",
        "import numpy as np\n",
        "from os import cpu_count\n",
        "from functools import partial\n",
        "from multiprocessing import Pool\n",
        "\n",
        "\n",
        "# reset the index of the training set after previous filtering\n",
        "df_pp.reset_index(drop=False, inplace=True)\n",
        "\n",
        "# Remove samples from the training data set if they \"almost overlap\" with the\n",
        "# samples in the test set.\n",
        "\n",
        "# Filtering function. Adjust pad to narrow down the candidate matches to\n",
        "# within a certain length of characters of the given sample.\n",
        "def fuzzfilter(sample, candidates, pad):\n",
        "  candidates = [x for x in candidates if len(x) <= len(sample)+pad and len(x) >= len(sample)-pad] \n",
        "  if len(candidates) > 0:\n",
        "    return process.extractOne(sample, candidates)[1]\n",
        "  else:\n",
        "    return np.nan"
      ],
      "execution_count": 10,
      "outputs": [
        {
          "output_type": "stream",
          "name": "stdout",
          "text": [
            "Requirement already satisfied: fuzzywuzzy in /usr/local/lib/python3.7/dist-packages (0.18.0)\n",
            "Requirement already satisfied: python-Levenshtein in /usr/local/lib/python3.7/dist-packages (0.12.2)\n",
            "Requirement already satisfied: setuptools in /usr/local/lib/python3.7/dist-packages (from python-Levenshtein) (57.4.0)\n"
          ]
        }
      ]
    },
    {
      "cell_type": "code",
      "metadata": {
        "id": "92EsgTaY3B4H"
      },
      "source": [
        "# start_time = time.time()\n",
        "# ### iterating over pandas dataframe rows is not recomended, let use multi processing to apply the function\n",
        "\n",
        "# with Pool(cpu_count()-1) as pool:\n",
        "#     scores = pool.map(partial(fuzzfilter, candidates=list(en_test_sents), pad=5), df_pp['source_sentence'])\n",
        "# hours, rem = divmod(time.time() - start_time, 3600)\n",
        "# minutes, seconds = divmod(rem, 60)\n",
        "# print(\"done in {}h:{}min:{}seconds\".format(hours, minutes, seconds))\n",
        "\n",
        "# # Filter out \"almost overlapping samples\"\n",
        "# df_pp = df_pp.assign(scores=scores)\n",
        "# df_pp = df_pp[df_pp['scores'] < 95]"
      ],
      "execution_count": 11,
      "outputs": []
    },
    {
      "cell_type": "code",
      "metadata": {
        "colab": {
          "base_uri": "https://localhost:8080/"
        },
        "id": "hxxBOCA-xXhy",
        "outputId": "ed21c947-2f47-461a-fc41-bdebb4fd9c38"
      },
      "source": [
        "# This section does the split between train/dev for the parallel corpora then saves them as separate files\n",
        "# We use 1000 dev test and the given test set.\n",
        "import csv\n",
        "\n",
        "# Do the split between dev/train and create parallel corpora\n",
        "num_dev_patterns = 1000\n",
        "\n",
        "# Optional: lower case the corpora - this will make it easier to generalize, but without proper casing.\n",
        "if lc:  # Julia: making lowercasing optional\n",
        "    df_pp[\"source_sentence\"] = df_pp[\"source_sentence\"].str.lower()\n",
        "    df_pp[\"target_sentence\"] = df_pp[\"target_sentence\"].str.lower()\n",
        "\n",
        "# Julia: test sets are already generated\n",
        "dev = df_pp.tail(num_dev_patterns) # Herman: Error in original\n",
        "stripped = df_pp.drop(df_pp.tail(num_dev_patterns).index)\n",
        "\n",
        "with open(\"train.\"+source_language, \"w\") as src_file, open(\"train.\"+target_language, \"w\") as trg_file:\n",
        "  for index, row in stripped.iterrows():\n",
        "    src_file.write(row[\"source_sentence\"]+\"\\n\")\n",
        "    trg_file.write(row[\"target_sentence\"]+\"\\n\")\n",
        "    \n",
        "with open(\"dev.\"+source_language, \"w\") as src_file, open(\"dev.\"+target_language, \"w\") as trg_file:\n",
        "  for index, row in dev.iterrows():\n",
        "    src_file.write(row[\"source_sentence\"]+\"\\n\")\n",
        "    trg_file.write(row[\"target_sentence\"]+\"\\n\")\n",
        "\n",
        "#stripped[[\"source_sentence\"]].to_csv(\"train.\"+source_language, header=False, index=False)  # Herman: Added `header=False` everywhere\n",
        "#stripped[[\"target_sentence\"]].to_csv(\"train.\"+target_language, header=False, index=False)  # Julia: Problematic handling of quotation marks.\n",
        "\n",
        "#dev[[\"source_sentence\"]].to_csv(\"dev.\"+source_language, header=False, index=False)\n",
        "#dev[[\"target_sentence\"]].to_csv(\"dev.\"+target_language, header=False, index=False)\n",
        "\n",
        "# Doublecheck the format below. There should be no extra quotation marks or weird characters.\n",
        "! head train.*\n",
        "! head dev.*"
      ],
      "execution_count": 12,
      "outputs": [
        {
          "output_type": "stream",
          "name": "stdout",
          "text": [
            "==> train.bpe.en <==\n",
            "T@@ w@@ i@@ c@@ e , i@@ n a@@ n@@ s@@ w@@ e@@ r t@@ o q@@ u@@ e@@ r@@ i@@ e@@ s f@@ r@@ o@@ m s@@ t@@ u@@ d@@ e@@ n@@ t@@ s , C@@ o@@ n@@ f@@ u@@ c@@ i@@ u@@ s s@@ t@@ a@@ t@@ e@@ d : “ W@@ h@@ a@@ t y@@ o@@ u d@@ o n@@ o@@ t w@@ a@@ n@@ t d@@ o@@ n@@ e t@@ o y@@ o@@ u , d@@ o n@@ o@@ t d@@ o t@@ o o@@ t@@ h@@ e@@ r@@ s . ”\n",
            "O@@ r a h@@ u@@ s@@ b@@ a@@ n@@ d m@@ a@@ y b@@ e o@@ p@@ p@@ o@@ s@@ e@@ d t@@ o a@@ l@@ l r@@ e@@ l@@ i@@ g@@ i@@ o@@ n a@@ n@@ d i@@ n@@ s@@ i@@ s@@ t t@@ h@@ a@@ t h@@ i@@ s c@@ h@@ i@@ l@@ d@@ r@@ e@@ n r@@ e@@ c@@ e@@ i@@ v@@ e n@@ o r@@ e@@ l@@ i@@ g@@ i@@ o@@ u@@ s e@@ d@@ u@@ c@@ a@@ t@@ i@@ o@@ n .\n",
            "S@@ p@@ e@@ a@@ k@@ i@@ n@@ g o@@ f d@@ i@@ s@@ c@@ i@@ p@@ l@@ e@@ s w@@ h@@ o w@@ o@@ u@@ l@@ d l@@ e@@ a@@ v@@ e e@@ v@@ e@@ n t@@ h@@ e@@ i@@ r h@@ o@@ u@@ s@@ e@@ s a@@ n@@ d f@@ i@@ e@@ l@@ d@@ s — y@@ e@@ s , t@@ h@@ e@@ i@@ r m@@ e@@ a@@ n@@ s o@@ f l@@ i@@ v@@ i@@ n@@ g — t@@ o m@@ a@@ k@@ e r@@ o@@ o@@ m f@@ o@@ r s@@ p@@ i@@ r@@ i@@ t@@ u@@ a@@ l t@@ h@@ i@@ n@@ g@@ s , J@@ e@@ s@@ u@@ s s@@ a@@ i@@ d : “ T@@ r@@ u@@ l@@ y I s@@ a@@ y t@@ o y@@ o@@ u m@@ e@@ n , N@@ o o@@ n@@ e h@@ a@@ s l@@ e@@ f@@ t h@@ o@@ u@@ s@@ e o@@ r b@@ r@@ o@@ t@@ h@@ e@@ r@@ s o@@ r s@@ i@@ s@@ t@@ e@@ r@@ s o@@ r m@@ o@@ t@@ h@@ e@@ r o@@ r f@@ a@@ t@@ h@@ e@@ r o@@ r c@@ h@@ i@@ l@@ d@@ r@@ e@@ n o@@ r f@@ i@@ e@@ l@@ d@@ s f@@ o@@ r m@@ y s@@ a@@ k@@ e a@@ n@@ d f@@ o@@ r t@@ h@@ e s@@ a@@ k@@ e o@@ f t@@ h@@ e g@@ o@@ o@@ d n@@ e@@ w@@ s w@@ h@@ o w@@ i@@ l@@ l n@@ o@@ t g@@ e@@ t a h@@ u@@ n@@ d@@ r@@ e@@ d@@ f@@ o@@ l@@ d n@@ o@@ w i@@ n t@@ h@@ i@@ s p@@ e@@ r@@ i@@ o@@ d o@@ f t@@ i@@ m@@ e , h@@ o@@ u@@ s@@ e@@ s a@@ n@@ d b@@ r@@ o@@ t@@ h@@ e@@ r@@ s a@@ n@@ d s@@ i@@ s@@ t@@ e@@ r@@ s a@@ n@@ d m@@ o@@ t@@ h@@ e@@ r@@ s a@@ n@@ d c@@ h@@ i@@ l@@ d@@ r@@ e@@ n a@@ n@@ d f@@ i@@ e@@ l@@ d@@ s , w@@ i@@ t@@ h p@@ e@@ r@@ s@@ e@@ c@@ u@@ t@@ i@@ o@@ n@@ s , a@@ n@@ d i@@ n t@@ h@@ e c@@ o@@ m@@ i@@ n@@ g s@@ y@@ s@@ t@@ e@@ m o@@ f t@@ h@@ i@@ n@@ g@@ s e@@ v@@ e@@ r@@ l@@ a@@ s@@ t@@ i@@ n@@ g l@@ i@@ f@@ e . ” — M@@ a@@ r@@ k 1@@ 0 : 2@@ 9 , 3@@ 0 .\n",
            "L@@ i@@ k@@ e G@@ a@@ r@@ y , s@@ h@@ e h@@ a@@ s d@@ i@@ a@@ b@@ e@@ t@@ e@@ s .\n",
            "S@@ i@@ m@@ i@@ l@@ a@@ r@@ l@@ y , a@@ f@@ t@@ e@@ r m@@ a@@ r@@ r@@ y@@ i@@ n@@ g a G@@ r@@ e@@ e@@ k O@@ r@@ t@@ h@@ o@@ d@@ o@@ x p@@ r@@ i@@ n@@ c@@ e@@ s@@ s i@@ n 9@@ 8@@ 7 C@@ .@@ E@@ . , t@@ h@@ e R@@ u@@ s@@ s@@ i@@ a@@ n r@@ u@@ l@@ e@@ r V@@ l@@ a@@ d@@ i@@ m@@ i@@ r I d@@ e@@ c@@ i@@ d@@ e@@ d t@@ h@@ a@@ t h@@ i@@ s s@@ u@@ b@@ j@@ e@@ c@@ t@@ s m@@ u@@ s@@ t b@@ e@@ c@@ o@@ m@@ e “ C@@ h@@ r@@ i@@ s@@ t@@ i@@ a@@ n@@ s . ”\n",
            "M@@ a@@ y w@@ e n@@ e@@ v@@ e@@ r f@@ o@@ r@@ g@@ e@@ t t@@ h@@ a@@ t t@@ h@@ e d@@ i@@ s@@ c@@ i@@ p@@ l@@ e J@@ a@@ m@@ e@@ s a@@ d@@ d@@ r@@ e@@ s@@ s@@ e@@ s a@@ s “ a@@ d@@ u@@ l@@ t@@ e@@ r@@ e@@ s@@ s@@ e@@ s ” t@@ h@@ o@@ s@@ e w@@ h@@ o p@@ r@@ o@@ f@@ e@@ s@@ s t@@ o b@@ e@@ l@@ o@@ n@@ g t@@ o G@@ o@@ d b@@ u@@ t w@@ h@@ o w@@ a@@ n@@ t t@@ o b@@ e f@@ r@@ i@@ e@@ n@@ d@@ s o@@ f t@@ h@@ e w@@ o@@ r@@ l@@ d .\n",
            "D@@ o@@ e@@ s i@@ t r@@ e@@ q@@ u@@ i@@ r@@ e a@@ n@@ y c@@ h@@ a@@ n@@ g@@ e f@@ r@@ o@@ m w@@ h@@ a@@ t w@@ e a@@ r@@ e d@@ o@@ i@@ n@@ g a@@ t p@@ r@@ e@@ s@@ e@@ n@@ t ?\n",
            "T@@ h@@ e a@@ w@@ e@@ -@@ i@@ n@@ s@@ p@@ i@@ r@@ i@@ n@@ g H@@ i@@ m@@ a@@ l@@ a@@ y@@ a@@ s , w@@ h@@ i@@ c@@ h f@@ o@@ r@@ m t@@ h@@ e n@@ o@@ r@@ t@@ h@@ e@@ r@@ n b@@ o@@ u@@ n@@ d@@ a@@ r@@ y , i@@ n@@ c@@ l@@ u@@ d@@ e M@@ o@@ u@@ n@@ t E@@ v@@ e@@ r@@ e@@ s@@ t , t@@ h@@ e t@@ a@@ l@@ l@@ e@@ s@@ t p@@ e@@ a@@ k i@@ n t@@ h@@ e w@@ o@@ r@@ l@@ d a@@ t 2@@ 9@@ ,@@ 0@@ 2@@ 8 f@@ e@@ e@@ t [ 8@@ ,@@ 8@@ 4@@ 8 m ] , a@@ n@@ d e@@ i@@ g@@ h@@ t o@@ t@@ h@@ e@@ r p@@ e@@ a@@ k@@ s o@@ v@@ e@@ r 2@@ 6@@ ,@@ 2@@ 0@@ 0 f@@ e@@ e@@ t [ 8@@ ,@@ 0@@ 0@@ 0 m ] .\n",
            "S@@ h@@ e h@@ a@@ s r@@ e@@ s@@ p@@ o@@ n@@ s@@ i@@ b@@ i@@ l@@ i@@ t@@ i@@ e@@ s t@@ o@@ w@@ a@@ r@@ d h@@ e@@ r o@@ w@@ n f@@ a@@ m@@ i@@ l@@ y a@@ n@@ d s@@ e@@ v@@ e@@ r@@ a@@ l o@@ t@@ h@@ e@@ r r@@ e@@ l@@ a@@ t@@ i@@ v@@ e@@ s , w@@ h@@ i@@ c@@ h m@@ e@@ a@@ n@@ s t@@ h@@ a@@ t s@@ h@@ e a@@ l@@ w@@ a@@ y@@ s s@@ e@@ e@@ m@@ s t@@ o b@@ e r@@ u@@ s@@ h@@ i@@ n@@ g a@@ b@@ o@@ u@@ t e@@ v@@ e@@ r@@ y@@ w@@ h@@ e@@ r@@ e .\n",
            "I@@ t r@@ a@@ n f@@ r@@ o@@ m t@@ h@@ e e@@ n@@ d o@@ f D@@ e@@ c@@ e@@ m@@ b@@ e@@ r 1@@ 9@@ 4@@ 9 i@@ n@@ t@@ o t@@ h@@ e n@@ e@@ w y@@ e@@ a@@ r o@@ f 1@@ 9@@ 5@@ 0 .\n",
            "\n",
            "==> train.bpe.zu <==\n",
            "K@@ a@@ b@@ i@@ l@@ i l@@ a@@ p@@ h@@ o e@@ p@@ h@@ e@@ n@@ d@@ u@@ l@@ a i@@ m@@ i@@ b@@ u@@ z@@ o y@@ a@@ b@@ a@@ f@@ u@@ n@@ d@@ i , u@@ C@@ o@@ n@@ f@@ u@@ c@@ i@@ u@@ s w@@ a@@ t@@ h@@ i : “ L@@ o@@ k@@ h@@ o o@@ n@@ g@@ a@@ f@@ u@@ n@@ i k@@ w@@ e@@ n@@ z@@ i@@ w@@ e k@@ u@@ w@@ e , u@@ n@@ g@@ a@@ k@@ w@@ e@@ n@@ z@@ i k@@ w@@ a@@ b@@ a@@ n@@ y@@ e . ”\n",
            "N@@ o@@ m@@ a u@@ m@@ y@@ e@@ n@@ i a@@ n@@ g@@ a@@ s@@ e a@@ n@@ g@@ a@@ f@@ u@@ n@@ i l@@ u@@ t@@ h@@ o o@@ l@@ u@@ y@@ i@@ n@@ k@@ o@@ l@@ o f@@ u@@ t@@ h@@ i a@@ m@@ e k@@ w@@ e@@ l@@ o@@ k@@ u@@ t@@ h@@ i i@@ z@@ i@@ n@@ g@@ a@@ n@@ e z@@ a@@ k@@ h@@ e m@@ a@@ z@@ i@@ n@@ g@@ a@@ f@@ u@@ n@@ d@@ i@@ s@@ w@@ a l@@ u@@ t@@ h@@ o n@@ g@@ a@@ y@@ o .\n",
            "E@@ k@@ h@@ u@@ l@@ u@@ m@@ a n@@ g@@ a@@ b@@ a@@ f@@ u@@ n@@ d@@ i b@@ a@@ k@@ h@@ e a@@ b@@ a@@ b@@ e@@ y@@ o@@ s@@ h@@ i@@ y@@ a n@@ g@@ i@@ s@@ h@@ o n@@ e@@ z@@ i@@ n@@ d@@ l@@ u n@@ a@@ m@@ a@@ s@@ i@@ m@@ u a@@ b@@ o — y@@ e@@ b@@ o , i@@ n@@ d@@ l@@ e@@ l@@ a y@@ a@@ b@@ o y@@ o@@ k@@ u@@ p@@ h@@ i@@ l@@ a — u@@ k@@ u@@ z@@ e b@@ a@@ t@@ h@@ o@@ l@@ e i@@ s@@ i@@ k@@ h@@ a@@ t@@ h@@ i s@@ e@@ z@@ i@@ n@@ t@@ o e@@ z@@ i@@ n@@ g@@ o@@ k@@ o@@ m@@ o@@ y@@ a , u@@ J@@ e@@ s@@ u w@@ a@@ t@@ h@@ i : “ N@@ g@@ i@@ q@@ i@@ n@@ i@@ s@@ i@@ l@@ e n@@ g@@ i@@ t@@ h@@ i k@@ i@@ n@@ i , A@@ k@@ e@@ k@@ h@@ o o@@ s@@ h@@ i@@ y@@ é i@@ n@@ d@@ l@@ u n@@ o@@ m@@ a a@@ b@@ a@@ f@@ o@@ w@@ a@@ b@@ o n@@ o@@ m@@ a o@@ d@@ a@@ d@@ e@@ w@@ a@@ b@@ o n@@ o@@ m@@ a u@@ n@@ i@@ n@@ a n@@ o@@ m@@ a u@@ y@@ i@@ s@@ e n@@ o@@ m@@ a a@@ b@@ a@@ n@@ t@@ w@@ a@@ n@@ a n@@ o@@ m@@ a a@@ m@@ a@@ s@@ i@@ m@@ u n@@ g@@ e@@ n@@ x@@ a y@@ a@@ m@@ i n@@ a@@ n@@ g@@ e@@ n@@ x@@ a y@@ e@@ z@@ i@@ n@@ d@@ a@@ b@@ a e@@ z@@ i@@ n@@ h@@ l@@ e o@@ n@@ g@@ e@@ k@@ e a@@ t@@ h@@ o@@ l@@ e n@@ g@@ o@@ k@@ u@@ p@@ h@@ i@@ n@@ d@@ w@@ e n@@ g@@ e@@ k@@ h@@ u@@ l@@ u m@@ a@@ n@@ j@@ e k@@ u@@ l@@ e n@@ k@@ a@@ t@@ h@@ i y@@ e@@ s@@ i@@ k@@ h@@ a@@ t@@ h@@ i , i@@ z@@ i@@ n@@ d@@ l@@ u n@@ a@@ b@@ a@@ f@@ o@@ w@@ a@@ b@@ o n@@ o@@ d@@ a@@ d@@ e@@ w@@ a@@ b@@ o n@@ o@@ n@@ i@@ n@@ a n@@ a@@ b@@ a@@ n@@ t@@ w@@ a@@ n@@ a n@@ a@@ m@@ a@@ s@@ i@@ m@@ u , k@@ a@@ n@@ y@@ e n@@ o@@ k@@ u@@ s@@ h@@ u@@ s@@ h@@ i@@ s@@ w@@ a , f@@ u@@ t@@ h@@ i e@@ s@@ i@@ m@@ i@@ s@@ w@@ e@@ n@@ i s@@ e@@ z@@ i@@ n@@ t@@ o e@@ s@@ i@@ z@@ a@@ y@@ o u@@ k@@ u@@ p@@ h@@ i@@ l@@ a o@@ k@@ u@@ p@@ h@@ a@@ k@@ a@@ d@@ e . ” — M@@ a@@ r@@ k@@ u 1@@ 0 : 2@@ 9 , 3@@ 0 .\n",
            "N@@ j@@ e@@ n@@ g@@ o@@ G@@ a@@ r@@ y , n@@ a@@ y@@ e u@@ n@@ e@@ s@@ i@@ f@@ o s@@ i@@ k@@ a@@ s@@ h@@ u@@ k@@ e@@ l@@ a .\n",
            "N@@ g@@ o@@ k@@ u@@ f@@ a@@ n@@ a@@ y@@ o , n@@ g@@ e@@ m@@ v@@ a k@@ o@@ k@@ u@@ s@@ h@@ a@@ d@@ a n@@ e@@ n@@ k@@ o@@ s@@ a@@ z@@ a@@ n@@ a e@@ s@@ o@@ n@@ t@@ a e@@ S@@ o@@ n@@ t@@ w@@ e@@ n@@ i L@@ a@@ m@@ a@@ G@@ r@@ e@@ k@@ i L@@ o@@ b@@ u - O@@ r@@ t@@ h@@ o@@ d@@ o@@ x n@@ g@@ o - 9@@ 8@@ 7 C@@ .@@ E . , u@@ m@@ b@@ u@@ s@@ i w@@ a@@ s@@ e@@ R@@ u@@ s@@ s@@ i@@ a u@@ V@@ l@@ a@@ d@@ i@@ m@@ i@@ r I w@@ a@@ n@@ q@@ u@@ m@@ a u@@ k@@ u@@ t@@ h@@ i a@@ b@@ a@@ n@@ t@@ u a@@ y@@ e@@ b@@ a@@ p@@ h@@ e@@ t@@ h@@ e k@@ w@@ a@@ k@@ u@@ m@@ e@@ l@@ w@@ e b@@ a@@ b@@ e “ n@@ g@@ a@@ m@@ a@@ K@@ r@@ i@@ s@@ t@@ u . ”\n",
            "M@@ a@@ s@@ i@@ n@@ g@@ a@@ l@@ o@@ k@@ o@@ t@@ h@@ i s@@ i@@ k@@ h@@ o@@ h@@ l@@ w@@ e u@@ k@@ u@@ t@@ h@@ i u@@ m@@ f@@ u@@ n@@ d@@ i u@@ J@@ a@@ k@@ o@@ b@@ e w@@ a@@ b@@ a@@ b@@ i@@ z@@ a n@@ g@@ o@@ k@@ u@@ t@@ h@@ i ‘ b@@ a@@ y@@ i@@ z@@ i@@ p@@ h@@ i@@ n@@ g@@ i ’ l@@ a@@ b@@ o a@@ b@@ a@@ z@@ i@@ s@@ h@@ o@@ l@@ o u@@ k@@ u@@ t@@ h@@ i b@@ a@@ n@@ g@@ a@@ b@@ a@@ k@@ a@@ N@@ k@@ u@@ l@@ u@@ n@@ k@@ u@@ l@@ u k@@ o@@ d@@ w@@ a a@@ b@@ a@@ f@@ u@@ n@@ a u@@ k@@ u@@ b@@ a n@@ g@@ a@@ b@@ a@@ n@@ g@@ a@@ n@@ e b@@ e@@ z@@ w@@ e .\n",
            "I@@ n@@ g@@ a@@ b@@ e k@@ u@@ f@@ u@@ n@@ a s@@ e@@ n@@ z@@ e u@@ s@@ h@@ i@@ n@@ t@@ s@@ h@@ o o@@ l@@ u@@ t@@ h@@ i@@ l@@ e k@@ u@@ l@@ o@@ k@@ h@@ o e@@ s@@ i@@ k@@ w@@ e@@ n@@ z@@ a@@ y@@ o m@@ a@@ n@@ j@@ e ?\n",
            "I@@ z@@ i@@ n@@ t@@ a@@ b@@ a z@@ a@@ s@@ e@@ H@@ i@@ m@@ a@@ l@@ a@@ y@@ a e@@ z@@ i@@ s@@ a@@ b@@ e@@ k@@ a@@ y@@ o , e@@ z@@ a@@ k@@ h@@ a u@@ m@@ n@@ g@@ c@@ e@@ l@@ e o@@ n@@ g@@ a@@ s@@ e@@ n@@ y@@ a@@ k@@ a@@ t@@ h@@ o , z@@ i@@ h@@ l@@ a@@ n@@ g@@ a@@ n@@ i@@ s@@ a i@@ M@@ o@@ u@@ n@@ t E@@ v@@ e@@ r@@ e@@ s@@ t , i@@ s@@ i@@ q@@ o@@ n@@ g@@ o e@@ s@@ i@@ p@@ h@@ a@@ k@@ e@@ m@@ e k@@ u@@ n@@ a@@ z@@ o z@@ o@@ n@@ k@@ e e@@ m@@ h@@ l@@ a@@ b@@ e@@ n@@ i n@@ g@@ a@@ m@@ a@@ m@@ i@@ t@@ h@@ a a@@ n@@ g@@ u - 8 8@@ 4@@ 8 , n@@ e@@ z@@ i@@ n@@ y@@ e i@@ z@@ i@@ q@@ o@@ n@@ g@@ o e@@ z@@ i@@ n@@ g@@ u - 8 e@@ z@@ i@@ p@@ h@@ a@@ k@@ e@@ m@@ e n@@ g@@ a@@ m@@ a@@ m@@ i@@ t@@ h@@ a a@@ n@@ g@@ a@@ p@@ h@@ e@@ z@@ u k@@ u@@ k@@ a - 8 0@@ 0@@ 0 .\n",
            "U@@ n@@ e@@ m@@ i@@ t@@ h@@ w@@ a@@ l@@ o y@@ e@@ m@@ f@@ a@@ n@@ e@@ l@@ o e@@ m@@ k@@ h@@ a@@ y@@ e@@ n@@ i w@@ a@@ k@@ h@@ e s@@ i@@ q@@ u n@@ a@@ k@@ w@@ e@@ z@@ i@@ n@@ y@@ e i@@ z@@ i@@ h@@ l@@ o@@ b@@ o e@@ z@@ i@@ n@@ i@@ n@@ g@@ a@@ n@@ a , o@@ k@@ u@@ s@@ h@@ o u@@ k@@ u@@ t@@ h@@ i u@@ h@@ l@@ a@@ l@@ e e@@ b@@ o@@ n@@ a@@ k@@ a@@ l@@ a e@@ p@@ h@@ u@@ t@@ h@@ u@@ m@@ a .\n",
            "W@@ a@@ q@@ h@@ u@@ b@@ e@@ k@@ a k@@ u@@ s@@ u@@ k@@ e@@ l@@ a e@@ k@@ u@@ p@@ h@@ e@@ l@@ e@@ n@@ i k@@ u@@ k@@ a@@ D@@ e@@ c@@ e@@ m@@ b@@ e@@ r 1@@ 9@@ 4@@ 9 k@@ w@@ a@@ z@@ e k@@ w@@ a@@ b@@ a s@@ o@@ n@@ y@@ a@@ k@@ e@@ n@@ i o@@ m@@ u@@ s@@ h@@ a k@@ a - 1@@ 9@@ 5@@ 0 .\n",
            "\n",
            "==> train.en <==\n",
            "How might the heart of an apathetic person be reached ?\n",
            "“ The researchers also noted that people who take aspirin , which lowers the risks of heart attacks , were partly protected from the effects of angry outbursts , ” the article said , possibly because aspirin reduces the ability of platelets to form clots and clog arteries .\n",
            "She lives in the town of Ho in the Volta region of Ghana\n",
            "Making a clean break will not be easy , though .\n",
            "“ I was walking down East 124th St. , between First and Second Avenues .\n",
            "“ The shroud ” that entraps the entire human family will have been removed forever. — Isa . 25 : 7 , 8 .\n",
            "Puerto Rico 8,511 25,315\n",
            "As for the Cuban government ’ s view of the pope ’ s visit , French magazine Le Monde Diplomatique comments : “ Fidel Castro regards the visit as a victory over the ostracism to which his regime has been subjected . ”\n",
            "By learning to dig and do research , you may be able to resolve many problems on your own. — Proverbs 2 : 4 .\n",
            "Tim : OK . It says : “ For God loved the world so much that he gave his only-begotten Son , so that everyone exercising faith in him might not be destroyed but have everlasting life . ”\n",
            "\n",
            "==> train.zu <==\n",
            "Singayifinyelela kanjani inhliziyo yomuntu onesimo sokunganaki ?\n",
            "“ Abacwaningi baphawula futhi ukuthi abantu abagwinya i - aspirin , eyehlisa izingozi zesifo senhliziyo , babevikelekile ngokwengxenye emiphumeleni yokuqhuma kwentukuthelo , ” kusho lesisihloko , mhlawumbe ngoba i - aspirin inciphisa amandla ezinhlayiyana zegazi okwakha amahlule nokuvala imithambo yegazi .\n",
            "Ihlala edolobhaneni laseHo esifundeni saseVolta eGhana\n",
            "Nokho , ukugqashula ngokuphelele ngeke kube lula .\n",
            "“ Ngangehla ngo - East 124th St . , phakathi kuka - First no - Second Avenue .\n",
            "‘ Isigubuzelo ’ esigubuzele wonke umkhaya wesintu siyobe sesisuswe phakade . — Isaya 25 : 7 , 8 .\n",
            "IPuerto Rico 8 511 25 315\n",
            "Ngokombono kahulumeni waseCuba ngokuvakasha kukapapa , umagazini wesiFulentshi i - Monde Diplomatique uyaphawula : “ UFidel Castro ubheka lokhu kuvakasha njengokunqotshwa kokukhishwa inyumbazane , umbuso wakhe oye waba ngaphansi kwakho . ”\n",
            "Ngokufunda ukuhlola nokucwaninga , ungase ukwazi ukuzixazululela izinkinga eziningi . — IzAga 2 : 4 .\n",
            "UMandla : Lithi : “ Ngoba uNkulunkulu walithanda izwe kangangokuba waze wanikela ngeNdodana yakhe ezelwe yodwa , ukuze wonke umuntu obonisa ukholo kuyo angabhubhi kodwa abe nokuphila okuphakade . ”\n",
            "==> dev.bpe.en <==\n",
            "1@@ 6 M@@ o@@ r@@ e i@@ m@@ p@@ o@@ r@@ t@@ a@@ n@@ t t@@ h@@ a@@ n k@@ n@@ o@@ w@@ i@@ n@@ g s@@ u@@ c@@ h d@@ e@@ t@@ a@@ i@@ l@@ s i@@ s t@@ h@@ a@@ t y@@ o@@ u w@@ i@@ l@@ l h@@ a@@ v@@ e y@@ o@@ u@@ r o@@ w@@ n r@@ e@@ s@@ i@@ d@@ e@@ n@@ c@@ e .\n",
            "A@@ n@@ d w@@ h@@ a@@ t e@@ f@@ f@@ e@@ c@@ t c@@ a@@ n t@@ h@@ a@@ t w@@ o@@ r@@ k h@@ a@@ v@@ e o@@ n p@@ e@@ o@@ p@@ l@@ e ?\n",
            "W@@ i@@ t@@ h m@@ y h@@ u@@ s@@ b@@ a@@ n@@ d , P@@ a@@ u@@ l\n",
            "O@@ u@@ r n@@ e@@ x@@ t a@@ s@@ s@@ i@@ g@@ n@@ m@@ e@@ n@@ t w@@ a@@ s t@@ h@@ e c@@ i@@ t@@ y o@@ f V@@ e@@ r@@ o@@ n@@ a , w@@ h@@ e@@ r@@ e t@@ h@@ e@@ r@@ e w@@ a@@ s n@@ o c@@ o@@ n@@ g@@ r@@ e@@ g@@ a@@ t@@ i@@ o@@ n .\n",
            "K@@ i@@ n@@ d w@@ o@@ r@@ d@@ s a@@ r@@ e a@@ p@@ p@@ r@@ e@@ c@@ i@@ a@@ t@@ e@@ d .\n",
            "S@@ T@@ E@@ P@@ S T@@ O C@@ O@@ N@@ T@@ R@@ O@@ L A@@ N@@ G@@ E@@ R\n",
            "E@@ d@@ w@@ a@@ r@@ d , q@@ u@@ o@@ t@@ e@@ d e@@ a@@ r@@ l@@ i@@ e@@ r , a@@ l@@ s@@ o a@@ d@@ m@@ i@@ t@@ s t@@ h@@ a@@ t s@@ t@@ a@@ y@@ i@@ n@@ g c@@ h@@ a@@ s@@ t@@ e i@@ s n@@ o@@ t e@@ a@@ s@@ y .\n",
            "W@@ h@@ e@@ n t@@ h@@ e s@@ e@@ a@@ s@@ o@@ n o@@ f t@@ h@@ e f@@ r@@ u@@ i@@ t@@ s c@@ a@@ m@@ e a@@ r@@ o@@ u@@ n@@ d , h@@ e d@@ i@@ s@@ p@@ a@@ t@@ c@@ h@@ e@@ d h@@ i@@ s s@@ l@@ a@@ v@@ e@@ s t@@ o t@@ h@@ e c@@ u@@ l@@ t@@ i@@ v@@ a@@ t@@ o@@ r@@ s t@@ o g@@ e@@ t h@@ i@@ s f@@ r@@ u@@ i@@ t@@ s .\n",
            "“ W@@ e g@@ a@@ v@@ e u@@ p m@@ a@@ n@@ y p@@ r@@ o@@ j@@ e@@ c@@ t@@ s a@@ s a r@@ e@@ s@@ u@@ l@@ t o@@ f t@@ h@@ i@@ s r@@ e@@ a@@ s@@ o@@ n@@ i@@ n@@ g , ” s@@ h@@ e a@@ d@@ m@@ i@@ t@@ s , a@@ d@@ d@@ i@@ n@@ g , “ b@@ u@@ t w@@ h@@ a@@ t b@@ l@@ e@@ s@@ s@@ i@@ n@@ g@@ s w@@ e h@@ a@@ d ! ”\n",
            "E@@ a@@ c@@ h w@@ o@@ r@@ e a r@@ o@@ s@@ a@@ r@@ y , a c@@ r@@ o@@ s@@ s , a@@ n@@ d a C@@ a@@ t@@ h@@ o@@ l@@ i@@ c m@@ e@@ d@@ a@@ l@@ l@@ i@@ o@@ n a@@ r@@ o@@ u@@ n@@ d h@@ i@@ s n@@ e@@ c@@ k .\n",
            "\n",
            "==> dev.bpe.zu <==\n",
            "1@@ 6 O@@ k@@ u@@ b@@ a@@ l@@ u@@ l@@ e@@ k@@ e k@@ a@@ k@@ h@@ u@@ l@@ u k@@ u@@ n@@ o@@ k@@ w@@ a@@ z@@ i i@@ m@@ i@@ n@@ i@@ n@@ i@@ n@@ g@@ w@@ a@@ n@@ e e@@ n@@ j@@ a@@ l@@ o u@@ k@@ w@@ a@@ z@@ i u@@ k@@ u@@ t@@ h@@ i u@@ y@@ o@@ b@@ a n@@ o@@ m@@ u@@ z@@ i o@@ t@@ h@@ i w@@ e@@ n@@ a .\n",
            "L@@ o m@@ s@@ e@@ b@@ e@@ n@@ z@@ i u@@ n@@ a@@ m@@ u@@ p@@ h@@ i u@@ m@@ p@@ h@@ u@@ m@@ e@@ l@@ a k@@ u@@ b@@ a@@ n@@ t@@ u ?\n",
            "N@@ g@@ i@@ n@@ o@@ m@@ y@@ e@@ n@@ i w@@ a@@ m@@ i , u@@ P@@ a@@ u@@ l\n",
            "I@@ s@@ a@@ b@@ e@@ l@@ o s@@ e@@ t@@ h@@ u e@@ s@@ i@@ l@@ a@@ n@@ d@@ e@@ l@@ a@@ y@@ o k@@ w@@ a@@ k@@ u@@ y@@ i@@ d@@ o@@ l@@ o@@ b@@ h@@ a l@@ a@@ s@@ e@@ V@@ e@@ r@@ o@@ n@@ a , i@@ n@@ d@@ a@@ w@@ o e@@ y@@ a@@ y@@ i@@ n@@ g@@ e@@ n@@ a@@ b@@ a@@ n@@ d@@ l@@ a .\n",
            "A@@ m@@ a@@ z@@ w@@ i o@@ m@@ u@@ s@@ a a@@ y@@ a@@ z@@ i@@ s@@ w@@ a .\n",
            "I@@ Z@@ I@@ N@@ Y@@ A@@ T@@ H@@ E@@ L@@ O Z@@ O@@ K@@ U@@ L@@ A@@ W@@ U@@ L@@ A I@@ N@@ T@@ U@@ K@@ U@@ T@@ H@@ E@@ L@@ O\n",
            "U - E@@ d@@ w@@ a@@ r@@ d , o@@ c@@ a@@ s@@ h@@ u@@ n@@ w@@ e n@@ g@@ a@@ p@@ h@@ a@@ m@@ b@@ i@@ l@@ i , n@@ a@@ y@@ e u@@ y@@ a@@ v@@ u@@ m@@ a u@@ k@@ u@@ t@@ h@@ i u@@ k@@ u@@ h@@ l@@ a@@ l@@ a u@@ m@@ s@@ u@@ l@@ w@@ a a@@ k@@ u@@ l@@ u@@ l@@ a .\n",
            "K@@ w@@ a@@ t@@ h@@ i s@@ e@@ k@@ u@@ s@@ o@@ n@@ d@@ e@@ l@@ e i@@ s@@ i@@ k@@ h@@ a@@ t@@ h@@ i s@@ e@@ z@@ i@@ t@@ h@@ e@@ l@@ o , w@@ a@@ t@@ h@@ u@@ m@@ a i@@ z@@ i@@ n@@ c@@ e@@ k@@ u z@@ a@@ k@@ h@@ e k@@ u@@ b@@ a@@ l@@ i@@ m@@ i u@@ k@@ u@@ b@@ a z@@ i@@ t@@ h@@ a@@ t@@ h@@ e i@@ z@@ i@@ t@@ h@@ e@@ l@@ o z@@ a@@ k@@ h@@ e .\n",
            "S@@ a@@ d@@ e@@ l@@ a i@@ m@@ i@@ s@@ e@@ b@@ e@@ n@@ z@@ i e@@ m@@ i@@ n@@ i@@ n@@ g@@ i n@@ g@@ e@@ n@@ x@@ a y@@ o@@ k@@ u@@ c@@ a@@ b@@ a@@ n@@ g@@ a n@@ g@@ a@@ l@@ e@@ n@@ d@@ l@@ e@@ l@@ a , ” e@@ v@@ u@@ m@@ a , a@@ b@@ e@@ s@@ e e@@ n@@ e@@ z@@ e@@ l@@ a , “ k@@ o@@ d@@ w@@ a y@@ e@@ k@@ a i@@ z@@ i@@ b@@ u@@ s@@ i@@ s@@ o e@@ s@@ a@@ b@@ a n@@ a@@ z@@ o ! ”\n",
            "N@@ g@@ a@@ m@@ u@@ n@@ y@@ e w@@ a@@ y@@ e@@ f@@ a@@ k@@ e i@@ r@@ o@@ s@@ a@@ l@@ i , i@@ s@@ i@@ p@@ h@@ a@@ m@@ b@@ a@@ n@@ o n@@ e@@ n@@ d@@ o@@ n@@ d@@ o y@@ a@@ m@@ a@@ K@@ a@@ t@@ o@@ l@@ i@@ k@@ a e@@ n@@ t@@ a@@ n@@ y@@ e@@ n@@ i .\n",
            "\n",
            "==> dev.en <==\n",
            "20 You can understand why that is the case with many .\n",
            "Jehovah ’ s Witnesses in your area will be glad to share more information with you about the Bible education program that is currently being carried on in your community . *\n",
            "Wisdom and discretion were also important .\n",
            "After the international convention in Rome that summer , I was privileged to attend the convention in Nuremberg , Germany .\n",
            "As the deliverance from Egypt drew near , he told the oppressed Israelites : “ One plague more I am going to bring upon Pharaoh and Egypt .\n",
            "Summing up this intellectual infiltration of Greek thought into Jewish culture , Jewish author Max Dimont says : “ Enriched with Platonic thought , Aristotelian logic , and Euclidian science , Jewish scholars approached the Torah with new tools . . . .\n",
            "If you have felt similarly to Lourdes , Jane , and Edward but did the right thing in Jehovah God ’ s eyes , you are to be commended for doing what is right .\n",
            "The religious leaders thus unwittingly proclaim judgment upon themselves , since they are included among the Israelite “ cultivators ” of Jehovah ’ s national “ vineyard ” of Israel .\n",
            "“ Fierce ” translates the same Greek word used at Matthew 8 : 28 and at 2 Timothy 3 : 1 .\n",
            "From there they proceed to the church and wait for Mass to finish .\n",
            "\n",
            "==> dev.zu <==\n",
            "20 Ungaqonda ukuthi kungani kunjalo ngabaningi .\n",
            "OFakazi BakaJehova endaweni yakini bayokujabulela ukuxoxa nawe okwengeziwe mayelana nemfundo yeBhayibheli eqhutshwa emphakathini wakini . *\n",
            "Ukuhlakanipha nokuqonda nako kwakubalulekile .\n",
            "Ngemva komhlangano wezizwe eRome ngalelo hlobo , ngaba nelungelo lokuba khona emhlanganweni owawuseNuremberg , eJalimane .\n",
            "Lapho ukukhululwa eGibhithe kusondela , watshela ama - Israyeli ayecindezelwe : “ Kunenhlupho eyodwa esasele engizoyiletha phezu kukaFaro neGibhithe .\n",
            "Efingqa lokhu kungena ngokuhlakanipha kokucabanga kwamaGreki esikweni lamaJuda , umbhali ongumJuda uMax Dimont uthi : “ Zithonywe ukucabanga kukaPlato , ukuhlakanipha kuka - Aristotle nesayensi ka - Euclid , izazi ezingamaJuda zabheka iTorah ngendlela ehlukile . . . .\n",
            "Uma uke wazizwa njengoLourdes , uJane no - Edward kodwa wenza okuhle emehlweni kaJehova uNkulunkulu , kufanele unconywe ngokwenza okuhle .\n",
            "Kanjalo abaholi benkolo bazahlulela bona ngokwabo bengazi , njengoba bephakathi ‘ kwabalimi ’ abangamaIsrayeli ‘ besivini ’ sikaNkulunkulu esiyisizwe sakwaIsrayeli .\n",
            "Igama elithi ‘ ulaka ’ liwukuhunyushwa kwegama lesiGreki elifanayo nelisetshenziswe kuMathewu 8 : 28 nakweyesi - 2 Thimothewu 3 : 1 .\n",
            "Uma besuka lapho baya esontweni , balinde iMisa ukuba liphele .\n"
          ]
        }
      ]
    },
    {
      "cell_type": "markdown",
      "metadata": {
        "id": "epeCydmCyS8X"
      },
      "source": [
        "\n",
        "\n",
        "---\n",
        "\n",
        "\n",
        "## Installation of JoeyNMT\n",
        "\n",
        "JoeyNMT is a simple, minimalist NMT package which is useful for learning and teaching. Check out the documentation for JoeyNMT [here](https://joeynmt.readthedocs.io)  "
      ]
    },
    {
      "cell_type": "code",
      "metadata": {
        "colab": {
          "base_uri": "https://localhost:8080/"
        },
        "id": "iBRMm4kMxZ8L",
        "outputId": "9234a0ea-bfc6-4fed-a817-75a3e3145a5f"
      },
      "source": [
        "# Install JoeyNMT\n",
        "! git clone https://github.com/joeynmt/joeynmt.git\n",
        "! cd joeynmt; pip3 install .\n",
        "# Install Pytorch with GPU support v1.7.1.\n",
        "#! pip install torch==1.8.0+cu101 -f https://download.pytorch.org/whl/torch_stable.html"
      ],
      "execution_count": 13,
      "outputs": [
        {
          "output_type": "stream",
          "name": "stdout",
          "text": [
            "fatal: destination path 'joeynmt' already exists and is not an empty directory.\n",
            "Processing /content/joeynmt\n",
            "\u001b[33m  DEPRECATION: A future pip version will change local packages to be built in-place without first copying to a temporary directory. We recommend you use --use-feature=in-tree-build to test your packages with this new behavior before it becomes the default.\n",
            "   pip 21.3 will remove support for this functionality. You can find discussion regarding this at https://github.com/pypa/pip/issues/7555.\u001b[0m\n",
            "Requirement already satisfied: future in /usr/local/lib/python3.7/dist-packages (from joeynmt==1.3) (0.16.0)\n",
            "Requirement already satisfied: pillow in /usr/local/lib/python3.7/dist-packages (from joeynmt==1.3) (7.1.2)\n",
            "Requirement already satisfied: numpy>=1.19.5 in /usr/local/lib/python3.7/dist-packages (from joeynmt==1.3) (1.19.5)\n",
            "Requirement already satisfied: setuptools>=41.0.0 in /usr/local/lib/python3.7/dist-packages (from joeynmt==1.3) (57.4.0)\n",
            "Requirement already satisfied: torch>=1.9.0 in /usr/local/lib/python3.7/dist-packages (from joeynmt==1.3) (1.9.0+cu111)\n",
            "Requirement already satisfied: tensorboard>=1.15 in /usr/local/lib/python3.7/dist-packages (from joeynmt==1.3) (2.6.0)\n",
            "Requirement already satisfied: torchtext>=0.10.0 in /usr/local/lib/python3.7/dist-packages (from joeynmt==1.3) (0.10.0)\n",
            "Requirement already satisfied: sacrebleu>=2.0.0 in /usr/local/lib/python3.7/dist-packages (from joeynmt==1.3) (2.0.0)\n",
            "Requirement already satisfied: subword-nmt in /usr/local/lib/python3.7/dist-packages (from joeynmt==1.3) (0.3.7)\n",
            "Requirement already satisfied: matplotlib in /usr/local/lib/python3.7/dist-packages (from joeynmt==1.3) (3.2.2)\n",
            "Requirement already satisfied: seaborn in /usr/local/lib/python3.7/dist-packages (from joeynmt==1.3) (0.11.2)\n",
            "Requirement already satisfied: pyyaml>=5.1 in /usr/local/lib/python3.7/dist-packages (from joeynmt==1.3) (5.4.1)\n",
            "Requirement already satisfied: pylint>=2.9.6 in /usr/local/lib/python3.7/dist-packages (from joeynmt==1.3) (2.11.1)\n",
            "Requirement already satisfied: six==1.12 in /usr/local/lib/python3.7/dist-packages (from joeynmt==1.3) (1.12.0)\n",
            "Requirement already satisfied: wrapt==1.11.1 in /usr/local/lib/python3.7/dist-packages (from joeynmt==1.3) (1.11.1)\n",
            "Requirement already satisfied: platformdirs>=2.2.0 in /usr/local/lib/python3.7/dist-packages (from pylint>=2.9.6->joeynmt==1.3) (2.4.0)\n",
            "Requirement already satisfied: toml>=0.7.1 in /usr/local/lib/python3.7/dist-packages (from pylint>=2.9.6->joeynmt==1.3) (0.10.2)\n",
            "Requirement already satisfied: mccabe<0.7,>=0.6 in /usr/local/lib/python3.7/dist-packages (from pylint>=2.9.6->joeynmt==1.3) (0.6.1)\n",
            "Requirement already satisfied: typing-extensions>=3.10.0 in /usr/local/lib/python3.7/dist-packages (from pylint>=2.9.6->joeynmt==1.3) (3.10.0.2)\n",
            "Requirement already satisfied: isort<6,>=4.2.5 in /usr/local/lib/python3.7/dist-packages (from pylint>=2.9.6->joeynmt==1.3) (5.9.3)\n",
            "Requirement already satisfied: astroid<2.9,>=2.8.0 in /usr/local/lib/python3.7/dist-packages (from pylint>=2.9.6->joeynmt==1.3) (2.8.2)\n",
            "Requirement already satisfied: lazy-object-proxy>=1.4.0 in /usr/local/lib/python3.7/dist-packages (from astroid<2.9,>=2.8.0->pylint>=2.9.6->joeynmt==1.3) (1.6.0)\n",
            "Requirement already satisfied: typed-ast<1.5,>=1.4.0 in /usr/local/lib/python3.7/dist-packages (from astroid<2.9,>=2.8.0->pylint>=2.9.6->joeynmt==1.3) (1.4.3)\n",
            "Requirement already satisfied: portalocker in /usr/local/lib/python3.7/dist-packages (from sacrebleu>=2.0.0->joeynmt==1.3) (2.3.2)\n",
            "Requirement already satisfied: tabulate>=0.8.9 in /usr/local/lib/python3.7/dist-packages (from sacrebleu>=2.0.0->joeynmt==1.3) (0.8.9)\n",
            "Requirement already satisfied: regex in /usr/local/lib/python3.7/dist-packages (from sacrebleu>=2.0.0->joeynmt==1.3) (2019.12.20)\n",
            "Requirement already satisfied: colorama in /usr/local/lib/python3.7/dist-packages (from sacrebleu>=2.0.0->joeynmt==1.3) (0.4.4)\n",
            "Requirement already satisfied: protobuf>=3.6.0 in /usr/local/lib/python3.7/dist-packages (from tensorboard>=1.15->joeynmt==1.3) (3.17.3)\n",
            "Requirement already satisfied: google-auth<2,>=1.6.3 in /usr/local/lib/python3.7/dist-packages (from tensorboard>=1.15->joeynmt==1.3) (1.35.0)\n",
            "Requirement already satisfied: requests<3,>=2.21.0 in /usr/local/lib/python3.7/dist-packages (from tensorboard>=1.15->joeynmt==1.3) (2.23.0)\n",
            "Requirement already satisfied: absl-py>=0.4 in /usr/local/lib/python3.7/dist-packages (from tensorboard>=1.15->joeynmt==1.3) (0.12.0)\n",
            "Requirement already satisfied: google-auth-oauthlib<0.5,>=0.4.1 in /usr/local/lib/python3.7/dist-packages (from tensorboard>=1.15->joeynmt==1.3) (0.4.6)\n",
            "Requirement already satisfied: tensorboard-plugin-wit>=1.6.0 in /usr/local/lib/python3.7/dist-packages (from tensorboard>=1.15->joeynmt==1.3) (1.8.0)\n",
            "Requirement already satisfied: wheel>=0.26 in /usr/local/lib/python3.7/dist-packages (from tensorboard>=1.15->joeynmt==1.3) (0.37.0)\n",
            "Requirement already satisfied: grpcio>=1.24.3 in /usr/local/lib/python3.7/dist-packages (from tensorboard>=1.15->joeynmt==1.3) (1.41.0)\n",
            "Requirement already satisfied: werkzeug>=0.11.15 in /usr/local/lib/python3.7/dist-packages (from tensorboard>=1.15->joeynmt==1.3) (1.0.1)\n",
            "Requirement already satisfied: markdown>=2.6.8 in /usr/local/lib/python3.7/dist-packages (from tensorboard>=1.15->joeynmt==1.3) (3.3.4)\n",
            "Requirement already satisfied: tensorboard-data-server<0.7.0,>=0.6.0 in /usr/local/lib/python3.7/dist-packages (from tensorboard>=1.15->joeynmt==1.3) (0.6.1)\n",
            "Requirement already satisfied: pyasn1-modules>=0.2.1 in /usr/local/lib/python3.7/dist-packages (from google-auth<2,>=1.6.3->tensorboard>=1.15->joeynmt==1.3) (0.2.8)\n",
            "Requirement already satisfied: rsa<5,>=3.1.4 in /usr/local/lib/python3.7/dist-packages (from google-auth<2,>=1.6.3->tensorboard>=1.15->joeynmt==1.3) (4.7.2)\n",
            "Requirement already satisfied: cachetools<5.0,>=2.0.0 in /usr/local/lib/python3.7/dist-packages (from google-auth<2,>=1.6.3->tensorboard>=1.15->joeynmt==1.3) (4.2.4)\n",
            "Requirement already satisfied: requests-oauthlib>=0.7.0 in /usr/local/lib/python3.7/dist-packages (from google-auth-oauthlib<0.5,>=0.4.1->tensorboard>=1.15->joeynmt==1.3) (1.3.0)\n",
            "Requirement already satisfied: importlib-metadata in /usr/local/lib/python3.7/dist-packages (from markdown>=2.6.8->tensorboard>=1.15->joeynmt==1.3) (4.8.1)\n",
            "Requirement already satisfied: pyasn1<0.5.0,>=0.4.6 in /usr/local/lib/python3.7/dist-packages (from pyasn1-modules>=0.2.1->google-auth<2,>=1.6.3->tensorboard>=1.15->joeynmt==1.3) (0.4.8)\n",
            "Requirement already satisfied: idna<3,>=2.5 in /usr/local/lib/python3.7/dist-packages (from requests<3,>=2.21.0->tensorboard>=1.15->joeynmt==1.3) (2.10)\n",
            "Requirement already satisfied: chardet<4,>=3.0.2 in /usr/local/lib/python3.7/dist-packages (from requests<3,>=2.21.0->tensorboard>=1.15->joeynmt==1.3) (3.0.4)\n",
            "Requirement already satisfied: urllib3!=1.25.0,!=1.25.1,<1.26,>=1.21.1 in /usr/local/lib/python3.7/dist-packages (from requests<3,>=2.21.0->tensorboard>=1.15->joeynmt==1.3) (1.24.3)\n",
            "Requirement already satisfied: certifi>=2017.4.17 in /usr/local/lib/python3.7/dist-packages (from requests<3,>=2.21.0->tensorboard>=1.15->joeynmt==1.3) (2021.5.30)\n",
            "Requirement already satisfied: oauthlib>=3.0.0 in /usr/local/lib/python3.7/dist-packages (from requests-oauthlib>=0.7.0->google-auth-oauthlib<0.5,>=0.4.1->tensorboard>=1.15->joeynmt==1.3) (3.1.1)\n",
            "Requirement already satisfied: tqdm in /usr/local/lib/python3.7/dist-packages (from torchtext>=0.10.0->joeynmt==1.3) (4.62.3)\n",
            "Requirement already satisfied: zipp>=0.5 in /usr/local/lib/python3.7/dist-packages (from importlib-metadata->markdown>=2.6.8->tensorboard>=1.15->joeynmt==1.3) (3.6.0)\n",
            "Requirement already satisfied: cycler>=0.10 in /usr/local/lib/python3.7/dist-packages (from matplotlib->joeynmt==1.3) (0.10.0)\n",
            "Requirement already satisfied: pyparsing!=2.0.4,!=2.1.2,!=2.1.6,>=2.0.1 in /usr/local/lib/python3.7/dist-packages (from matplotlib->joeynmt==1.3) (2.4.7)\n",
            "Requirement already satisfied: python-dateutil>=2.1 in /usr/local/lib/python3.7/dist-packages (from matplotlib->joeynmt==1.3) (2.8.2)\n",
            "Requirement already satisfied: kiwisolver>=1.0.1 in /usr/local/lib/python3.7/dist-packages (from matplotlib->joeynmt==1.3) (1.3.2)\n",
            "Requirement already satisfied: scipy>=1.0 in /usr/local/lib/python3.7/dist-packages (from seaborn->joeynmt==1.3) (1.4.1)\n",
            "Requirement already satisfied: pandas>=0.23 in /usr/local/lib/python3.7/dist-packages (from seaborn->joeynmt==1.3) (1.1.5)\n",
            "Requirement already satisfied: pytz>=2017.2 in /usr/local/lib/python3.7/dist-packages (from pandas>=0.23->seaborn->joeynmt==1.3) (2018.9)\n",
            "Building wheels for collected packages: joeynmt\n",
            "  Building wheel for joeynmt (setup.py) ... \u001b[?25l\u001b[?25hdone\n",
            "  Created wheel for joeynmt: filename=joeynmt-1.3-py3-none-any.whl size=86029 sha256=f71f03bf6297713c28c236c42d7e52d9c41a2cdc506dc788cf3d0c9890a0bb3e\n",
            "  Stored in directory: /tmp/pip-ephem-wheel-cache-9dbbsmkn/wheels/0a/f4/bf/6c9d3b8efbfece6cd209f865be37382b02e7c3584df2e28ca4\n",
            "Successfully built joeynmt\n",
            "Installing collected packages: joeynmt\n",
            "  Attempting uninstall: joeynmt\n",
            "    Found existing installation: joeynmt 1.3\n",
            "    Uninstalling joeynmt-1.3:\n",
            "      Successfully uninstalled joeynmt-1.3\n",
            "Successfully installed joeynmt-1.3\n"
          ]
        }
      ]
    },
    {
      "cell_type": "markdown",
      "metadata": {
        "id": "AaE77Tcppex9"
      },
      "source": [
        "# Preprocessing the Data into Subword BPE Tokens\n",
        "\n",
        "- One of the most powerful improvements for agglutinative languages (a feature of most Bantu languages) is using BPE tokenization [ (Sennrich, 2015) ](https://arxiv.org/abs/1508.07909).\n",
        "\n",
        "- It was also shown that by optimizing the umber of BPE codes we significantly improve results for low-resourced languages [(Sennrich, 2019)](https://www.aclweb.org/anthology/P19-1021) [(Martinus, 2019)](https://arxiv.org/abs/1906.05685)\n",
        "\n",
        "- Below we have the scripts for doing BPE tokenization of our data. We use 4000 tokens as recommended by [(Sennrich, 2019)](https://www.aclweb.org/anthology/P19-1021). You do not need to change anything. Simply running the below will be suitable. "
      ]
    },
    {
      "cell_type": "code",
      "metadata": {
        "colab": {
          "base_uri": "https://localhost:8080/"
        },
        "id": "H-TyjtmXB1mL",
        "outputId": "750fa9d5-5620-4a98-8a7c-76ea4a7cc8a4"
      },
      "source": [
        "# One of the huge boosts in NMT performance was to use a different method of tokenizing. \n",
        "# Usually, NMT would tokenize by words. However, using a method called BPE gave amazing boosts to performance\n",
        "\n",
        "# Do subword NMT\n",
        "from os import path\n",
        "os.environ[\"src\"] = source_language # Sets them in bash as well, since we often use bash scripts\n",
        "os.environ[\"tgt\"] = target_language\n",
        "\n",
        "# Learn BPEs on the training data.\n",
        "os.environ[\"data_path\"] = path.join(\"joeynmt\", \"data\",target_language + source_language ) # Herman! \n",
        "! subword-nmt learn-joint-bpe-and-vocab --input train.$src train.$tgt -s 4000 -o bpe.codes.4000 --write-vocabulary vocab.$src vocab.$tgt\n",
        "\n",
        "# Apply BPE splits to the development and test data.\n",
        "! subword-nmt apply-bpe -c bpe.codes.4000 --vocabulary vocab.$src < train.$src > train.bpe.$src\n",
        "! subword-nmt apply-bpe -c bpe.codes.4000 --vocabulary vocab.$tgt < train.$tgt > train.bpe.$tgt\n",
        "\n",
        "! subword-nmt apply-bpe -c bpe.codes.4000 --vocabulary vocab.$src < dev.$src > dev.bpe.$src\n",
        "! subword-nmt apply-bpe -c bpe.codes.4000 --vocabulary vocab.$tgt < dev.$tgt > dev.bpe.$tgt\n",
        "! subword-nmt apply-bpe -c bpe.codes.4000 --vocabulary vocab.$src < test.$src > test.bpe.$src\n",
        "! subword-nmt apply-bpe -c bpe.codes.4000 --vocabulary vocab.$tgt < test.$tgt > test.bpe.$tgt\n",
        "\n",
        "# Create directory, move everyone we care about to the correct location\n",
        "! mkdir -p $data_path\n",
        "! cp train.* $data_path\n",
        "! cp test.* $data_path\n",
        "! cp dev.* $data_path\n",
        "! cp bpe.codes.4000 $data_path\n",
        "! ls $data_path\n",
        "\n",
        "# Also move everything we care about to a mounted location in google drive (relevant if running in colab) at gdrive_path\n",
        "! cp train.* \"$gdrive_path\"\n",
        "! cp test.* \"$gdrive_path\"\n",
        "! cp dev.* \"$gdrive_path\"\n",
        "! cp bpe.codes.4000 \"$gdrive_path\"\n",
        "! ls \"$gdrive_path\"\n",
        "\n",
        "# Create that vocab using build_vocab\n",
        "! sudo chmod 777 joeynmt/scripts/build_vocab.py\n",
        "! joeynmt/scripts/build_vocab.py joeynmt/data/$tgt$src/train.bpe.$src joeynmt/data/$tgt$src/train.bpe.$tgt --output_path joeynmt/data/$tgt$src/vocab.txt\n",
        "\n",
        "# Some output\n",
        "! echo \"BPE IsiZulu Sentences\"\n",
        "! tail -n 5 test.bpe.$tgt\n",
        "! echo \"Combined BPE Vocab\"\n",
        "! tail -n 10 joeynmt/data/$tgt$src/vocab.txt  # Herman"
      ],
      "execution_count": 14,
      "outputs": [
        {
          "output_type": "stream",
          "name": "stdout",
          "text": [
            "bpe.codes.4000\tdev.en\t     test.bpe.zu     test.en-any.en.1  train.bpe.zu\n",
            "dev.bpe.en\tdev.zu\t     test.en\t     test.zu\t       train.en\n",
            "dev.bpe.zu\ttest.bpe.en  test.en-any.en  train.bpe.en      train.zu\n",
            "bpe.codes.4000\tdev.en\t     test.bpe.zu     test.en-any.en.1  train.bpe.zu\n",
            "dev.bpe.en\tdev.zu\t     test.en\t     test.zu\t       train.en\n",
            "dev.bpe.zu\ttest.bpe.en  test.en-any.en  train.bpe.en      train.zu\n",
            "BPE IsiZulu Sentences\n",
            "Ngenxa yalokho , ngang@@ az@@ iwa njengom@@ untu ong@@ ath@@ embekile .\n",
            "Lapho ng@@ ifunda iqiniso , ngen@@ q@@ aba uku@@ qhubeka nal@@ owo m@@ kh@@ uba , nakuba lo m@@ sebenzi waw@@ ung@@ i@@ holela kahle kakhulu .\n",
            "Ngiy@@ isibonelo esihle em@@ ad@@ od@@ aneni ami amabili futhi seng@@ iye ng@@ af@@ anel@@ ekela amal@@ ungelo ebandleni .\n",
            "Kub@@ ac@@ wan@@ ingi - m@@ abh@@ uku ent@@ ela nabanye eng@@ isebenz@@ elana nabo ebh@@ izin@@ is@@ ini , manje seng@@ az@@ iwa njengom@@ untu oth@@ embekile . ”\n",
            "U@@ R@@ u@@ the wath@@ uth@@ ela k@@ wa - Israyeli lapho ay@@ eyo@@ kwazi khona ukukh@@ ulekela uNkulunkulu we@@ qiniso .\n",
            "Combined BPE Vocab\n",
            "ṇ@@\n",
            "{\n",
            "ɓ@@\n",
            "ù@@\n",
            "urophu\n",
            "Ο@@\n",
            "·\n",
            "̆\n",
            "Í\n",
            "ז@@\n"
          ]
        }
      ]
    },
    {
      "cell_type": "code",
      "metadata": {
        "colab": {
          "base_uri": "https://localhost:8080/"
        },
        "id": "IlMitUHR8Qy-",
        "outputId": "32dbc782-3427-4a19-f349-2725d02d0081"
      },
      "source": [
        "# Also move everything we care about to a mounted location in google drive (relevant if running in colab) at gdrive_path\n",
        "! cp train.* \"$gdrive_path\"\n",
        "! cp test.* \"$gdrive_path\"\n",
        "! cp dev.* \"$gdrive_path\"\n",
        "! cp bpe.codes.4000 \"$gdrive_path\"\n",
        "! ls \"$gdrive_path\""
      ],
      "execution_count": 15,
      "outputs": [
        {
          "output_type": "stream",
          "name": "stdout",
          "text": [
            "bpe.codes.4000\tdev.en\t     test.bpe.zu     test.en-any.en.1  train.bpe.zu\n",
            "dev.bpe.en\tdev.zu\t     test.en\t     test.zu\t       train.en\n",
            "dev.bpe.zu\ttest.bpe.en  test.en-any.en  train.bpe.en      train.zu\n"
          ]
        }
      ]
    },
    {
      "cell_type": "markdown",
      "metadata": {
        "id": "Ixmzi60WsUZ8"
      },
      "source": [
        "# Creating the JoeyNMT Config\n",
        "\n",
        "JoeyNMT requires a yaml config. We provide a template below. We've also set a number of defaults with it, that you may play with!\n",
        "\n",
        "- We used Transformer architecture \n",
        "- We set our dropout to reasonably high: 0.3 (recommended in  [(Sennrich, 2019)](https://www.aclweb.org/anthology/P19-1021))\n",
        "\n",
        "Things worth playing with:\n",
        "- The batch size (also recommended to change for low-resourced languages)\n",
        "- The number of epochs (we've set it at 30 just so it runs in about an hour, for testing purposes)\n",
        "- The decoder options (beam_size, alpha)\n",
        "- Evaluation metrics (BLEU versus Crhf4)"
      ]
    },
    {
      "cell_type": "code",
      "metadata": {
        "id": "h8TMgv1p3L1z"
      },
      "source": [
        "# This creates the config file for our JoeyNMT system. It might seem overwhelming so we've provided a couple of useful parameters you'll need to update\n",
        "# (You can of course play with all the parameters if you'd like!)\n",
        "\n",
        "name = '%s%s' % (target_language, source_language)\n",
        "# gdrive_path = os.environ[\"gdrive_path\"]\n",
        "\n",
        "# Create the config\n",
        "config = \"\"\"\n",
        "name: \"{target_language}{source_language}_reverse_transformer\"\n",
        "\n",
        "data:\n",
        "    src: \"{target_language}\"\n",
        "    trg: \"{source_language}\"\n",
        "    train: \"data/{name}/train.bpe\"\n",
        "    dev:   \"data/{name}/dev.bpe\"\n",
        "    test:  \"data/{name}/test.bpe\"\n",
        "    level: \"bpe\"\n",
        "    lowercase: False\n",
        "    max_sent_length: 100\n",
        "    src_vocab: \"data/{name}/vocab.txt\"\n",
        "    trg_vocab: \"data/{name}/vocab.txt\"\n",
        "\n",
        "testing:\n",
        "    beam_size: 5\n",
        "    alpha: 1.0\n",
        "\n",
        "training:\n",
        "    #load_model: \"{gdrive_path}/models/{name}_transformer/1.ckpt\" # if uncommented, load a pre-trained model from this checkpoint\n",
        "    random_seed: 42\n",
        "    optimizer: \"adam\"\n",
        "    normalization: \"tokens\"\n",
        "    adam_betas: [0.9, 0.999] \n",
        "    scheduling: \"plateau\"           # TODO: try switching from plateau to Noam scheduling\n",
        "    patience: 5                     # For plateau: decrease learning rate by decrease_factor if validation score has not improved for this many validation rounds.\n",
        "    learning_rate_factor: 0.5       # factor for Noam scheduler (used with Transformer)\n",
        "    learning_rate_warmup: 1000      # warmup steps for Noam scheduler (used with Transformer)\n",
        "    decrease_factor: 0.7\n",
        "    loss: \"crossentropy\"\n",
        "    learning_rate: 0.0003\n",
        "    learning_rate_min: 0.00000001\n",
        "    weight_decay: 0.0\n",
        "    label_smoothing: 0.1\n",
        "    batch_size: 4096\n",
        "    batch_type: \"token\"\n",
        "    eval_batch_size: 3600\n",
        "    eval_batch_type: \"token\"\n",
        "    batch_multiplier: 1\n",
        "    early_stopping_metric: \"ppl\"\n",
        "    epochs: 5                  # TODO: Decrease for when playing around and checking of working. Around 30 is sufficient to check if its working at all\n",
        "    validation_freq: 1000          # TODO: Set to at least once per epoch.\n",
        "    logging_freq: 100\n",
        "    eval_metric: \"bleu\"\n",
        "    model_dir: \"models/{name}_reverse_transformer\"\n",
        "    overwrite: True              # TODO: Set to True if you want to overwrite possibly existing models. \n",
        "    shuffle: True\n",
        "    use_cuda: True\n",
        "    max_output_length: 100\n",
        "    print_valid_sents: [0, 1, 2, 3]\n",
        "    keep_last_ckpts: 3\n",
        "\n",
        "model:\n",
        "    initializer: \"xavier\"\n",
        "    bias_initializer: \"zeros\"\n",
        "    init_gain: 1.0\n",
        "    embed_initializer: \"xavier\"\n",
        "    embed_init_gain: 1.0\n",
        "    tied_embeddings: True\n",
        "    tied_softmax: True\n",
        "    encoder:\n",
        "        type: \"transformer\"\n",
        "        num_layers: 6\n",
        "        num_heads: 4             # TODO: Increase to 8 for larger data.\n",
        "        embeddings:\n",
        "            embedding_dim: 256   # TODO: Increase to 512 for larger data.\n",
        "            scale: True\n",
        "            dropout: 0.2\n",
        "        # typically ff_size = 4 x hidden_size\n",
        "        hidden_size: 256         # TODO: Increase to 512 for larger data.\n",
        "        ff_size: 1024            # TODO: Increase to 2048 for larger data.\n",
        "        dropout: 0.3\n",
        "    decoder:\n",
        "        type: \"transformer\"\n",
        "        num_layers: 6\n",
        "        num_heads: 4              # TODO: Increase to 8 for larger data.\n",
        "        embeddings:\n",
        "            embedding_dim: 256    # TODO: Increase to 512 for larger data.\n",
        "            scale: True\n",
        "            dropout: 0.2\n",
        "        # typically ff_size = 4 x hidden_size\n",
        "        hidden_size: 256         # TODO: Increase to 512 for larger data.\n",
        "        ff_size: 1024            # TODO: Increase to 2048 for larger data.\n",
        "        dropout: 0.3\n",
        "\"\"\".format(name=name, gdrive_path=os.environ[\"gdrive_path\"], source_language=source_language, target_language=target_language)\n",
        "with open(\"joeynmt/configs/transformer_reverse_{name}.yaml\".format(name=name),'w') as f:\n",
        "    f.write(config)"
      ],
      "execution_count": 16,
      "outputs": []
    },
    {
      "cell_type": "markdown",
      "metadata": {
        "id": "oEzoJtV2MIpt"
      },
      "source": [
        "# Train the Model\n",
        "\n",
        "This single line of joeynmt runs the training using the config we made above"
      ]
    },
    {
      "cell_type": "code",
      "metadata": {
        "colab": {
          "base_uri": "https://localhost:8080/"
        },
        "id": "WzbNYNdjLgNb",
        "outputId": "66953b00-f796-4f72-c88e-7f69f6daa079"
      },
      "source": [
        "# Train the model\n",
        "# You can press Ctrl-C to stop. And then run the next cell to save your checkpoints! \n",
        "!cd joeynmt; python3 -m joeynmt train configs/transformer_reverse_$tgt$src.yaml"
      ],
      "execution_count": 17,
      "outputs": [
        {
          "output_type": "stream",
          "name": "stdout",
          "text": [
            "2021-10-11 03:39:57,363 - INFO - root - Hello! This is Joey-NMT (version 1.3).\n",
            "2021-10-11 03:39:57,509 - INFO - joeynmt.data - Loading training data...\n",
            "2021-10-11 03:40:23,480 - INFO - joeynmt.data - Building vocabulary...\n",
            "2021-10-11 03:40:23,854 - INFO - joeynmt.data - Loading dev data...\n",
            "2021-10-11 03:40:23,946 - INFO - joeynmt.data - Loading test data...\n",
            "2021-10-11 03:40:24,077 - INFO - joeynmt.data - Data loaded.\n",
            "2021-10-11 03:40:24,078 - INFO - joeynmt.model - Building an encoder-decoder model...\n",
            "2021-10-11 03:40:24,539 - INFO - joeynmt.model - Enc-dec model built.\n",
            "2021-10-11 03:40:31,903 - INFO - joeynmt.training - Total params: 12207616\n",
            "2021-10-11 03:40:31,906 - WARNING - joeynmt.training - `keep_last_ckpts` option is outdated. Please use `keep_best_ckpts`, instead.\n",
            "2021-10-11 03:40:31,908 - INFO - joeynmt.helpers - cfg.name                           : zuen_reverse_transformer\n",
            "2021-10-11 03:40:31,908 - INFO - joeynmt.helpers - cfg.data.src                       : zu\n",
            "2021-10-11 03:40:31,909 - INFO - joeynmt.helpers - cfg.data.trg                       : en\n",
            "2021-10-11 03:40:31,909 - INFO - joeynmt.helpers - cfg.data.train                     : data/zuen/train.bpe\n",
            "2021-10-11 03:40:31,909 - INFO - joeynmt.helpers - cfg.data.dev                       : data/zuen/dev.bpe\n",
            "2021-10-11 03:40:31,909 - INFO - joeynmt.helpers - cfg.data.test                      : data/zuen/test.bpe\n",
            "2021-10-11 03:40:31,909 - INFO - joeynmt.helpers - cfg.data.level                     : bpe\n",
            "2021-10-11 03:40:31,909 - INFO - joeynmt.helpers - cfg.data.lowercase                 : False\n",
            "2021-10-11 03:40:31,909 - INFO - joeynmt.helpers - cfg.data.max_sent_length           : 100\n",
            "2021-10-11 03:40:31,909 - INFO - joeynmt.helpers - cfg.data.src_vocab                 : data/zuen/vocab.txt\n",
            "2021-10-11 03:40:31,909 - INFO - joeynmt.helpers - cfg.data.trg_vocab                 : data/zuen/vocab.txt\n",
            "2021-10-11 03:40:31,909 - INFO - joeynmt.helpers - cfg.testing.beam_size              : 5\n",
            "2021-10-11 03:40:31,909 - INFO - joeynmt.helpers - cfg.testing.alpha                  : 1.0\n",
            "2021-10-11 03:40:31,909 - INFO - joeynmt.helpers - cfg.training.random_seed           : 42\n",
            "2021-10-11 03:40:31,909 - INFO - joeynmt.helpers - cfg.training.optimizer             : adam\n",
            "2021-10-11 03:40:31,910 - INFO - joeynmt.helpers - cfg.training.normalization         : tokens\n",
            "2021-10-11 03:40:31,910 - INFO - joeynmt.helpers - cfg.training.adam_betas            : [0.9, 0.999]\n",
            "2021-10-11 03:40:31,910 - INFO - joeynmt.helpers - cfg.training.scheduling            : plateau\n",
            "2021-10-11 03:40:31,910 - INFO - joeynmt.helpers - cfg.training.patience              : 5\n",
            "2021-10-11 03:40:31,910 - INFO - joeynmt.helpers - cfg.training.learning_rate_factor  : 0.5\n",
            "2021-10-11 03:40:31,910 - INFO - joeynmt.helpers - cfg.training.learning_rate_warmup  : 1000\n",
            "2021-10-11 03:40:31,910 - INFO - joeynmt.helpers - cfg.training.decrease_factor       : 0.7\n",
            "2021-10-11 03:40:31,910 - INFO - joeynmt.helpers - cfg.training.loss                  : crossentropy\n",
            "2021-10-11 03:40:31,910 - INFO - joeynmt.helpers - cfg.training.learning_rate         : 0.0003\n",
            "2021-10-11 03:40:31,910 - INFO - joeynmt.helpers - cfg.training.learning_rate_min     : 1e-08\n",
            "2021-10-11 03:40:31,911 - INFO - joeynmt.helpers - cfg.training.weight_decay          : 0.0\n",
            "2021-10-11 03:40:31,911 - INFO - joeynmt.helpers - cfg.training.label_smoothing       : 0.1\n",
            "2021-10-11 03:40:31,911 - INFO - joeynmt.helpers - cfg.training.batch_size            : 4096\n",
            "2021-10-11 03:40:31,911 - INFO - joeynmt.helpers - cfg.training.batch_type            : token\n",
            "2021-10-11 03:40:31,911 - INFO - joeynmt.helpers - cfg.training.eval_batch_size       : 3600\n",
            "2021-10-11 03:40:31,911 - INFO - joeynmt.helpers - cfg.training.eval_batch_type       : token\n",
            "2021-10-11 03:40:31,911 - INFO - joeynmt.helpers - cfg.training.batch_multiplier      : 1\n",
            "2021-10-11 03:40:31,911 - INFO - joeynmt.helpers - cfg.training.early_stopping_metric : ppl\n",
            "2021-10-11 03:40:31,912 - INFO - joeynmt.helpers - cfg.training.epochs                : 5\n",
            "2021-10-11 03:40:31,912 - INFO - joeynmt.helpers - cfg.training.validation_freq       : 1000\n",
            "2021-10-11 03:40:31,912 - INFO - joeynmt.helpers - cfg.training.logging_freq          : 100\n",
            "2021-10-11 03:40:31,912 - INFO - joeynmt.helpers - cfg.training.eval_metric           : bleu\n",
            "2021-10-11 03:40:31,912 - INFO - joeynmt.helpers - cfg.training.model_dir             : models/zuen_reverse_transformer\n",
            "2021-10-11 03:40:31,912 - INFO - joeynmt.helpers - cfg.training.overwrite             : True\n",
            "2021-10-11 03:40:31,912 - INFO - joeynmt.helpers - cfg.training.shuffle               : True\n",
            "2021-10-11 03:40:31,912 - INFO - joeynmt.helpers - cfg.training.use_cuda              : True\n",
            "2021-10-11 03:40:31,912 - INFO - joeynmt.helpers - cfg.training.max_output_length     : 100\n",
            "2021-10-11 03:40:31,912 - INFO - joeynmt.helpers - cfg.training.print_valid_sents     : [0, 1, 2, 3]\n",
            "2021-10-11 03:40:31,913 - INFO - joeynmt.helpers - cfg.training.keep_last_ckpts       : 3\n",
            "2021-10-11 03:40:31,913 - INFO - joeynmt.helpers - cfg.model.initializer              : xavier\n",
            "2021-10-11 03:40:31,913 - INFO - joeynmt.helpers - cfg.model.bias_initializer         : zeros\n",
            "2021-10-11 03:40:31,913 - INFO - joeynmt.helpers - cfg.model.init_gain                : 1.0\n",
            "2021-10-11 03:40:31,913 - INFO - joeynmt.helpers - cfg.model.embed_initializer        : xavier\n",
            "2021-10-11 03:40:31,913 - INFO - joeynmt.helpers - cfg.model.embed_init_gain          : 1.0\n",
            "2021-10-11 03:40:31,913 - INFO - joeynmt.helpers - cfg.model.tied_embeddings          : True\n",
            "2021-10-11 03:40:31,914 - INFO - joeynmt.helpers - cfg.model.tied_softmax             : True\n",
            "2021-10-11 03:40:31,914 - INFO - joeynmt.helpers - cfg.model.encoder.type             : transformer\n",
            "2021-10-11 03:40:31,914 - INFO - joeynmt.helpers - cfg.model.encoder.num_layers       : 6\n",
            "2021-10-11 03:40:31,914 - INFO - joeynmt.helpers - cfg.model.encoder.num_heads        : 4\n",
            "2021-10-11 03:40:31,914 - INFO - joeynmt.helpers - cfg.model.encoder.embeddings.embedding_dim : 256\n",
            "2021-10-11 03:40:31,914 - INFO - joeynmt.helpers - cfg.model.encoder.embeddings.scale : True\n",
            "2021-10-11 03:40:31,914 - INFO - joeynmt.helpers - cfg.model.encoder.embeddings.dropout : 0.2\n",
            "2021-10-11 03:40:31,914 - INFO - joeynmt.helpers - cfg.model.encoder.hidden_size      : 256\n",
            "2021-10-11 03:40:31,914 - INFO - joeynmt.helpers - cfg.model.encoder.ff_size          : 1024\n",
            "2021-10-11 03:40:31,914 - INFO - joeynmt.helpers - cfg.model.encoder.dropout          : 0.3\n",
            "2021-10-11 03:40:31,915 - INFO - joeynmt.helpers - cfg.model.decoder.type             : transformer\n",
            "2021-10-11 03:40:31,915 - INFO - joeynmt.helpers - cfg.model.decoder.num_layers       : 6\n",
            "2021-10-11 03:40:31,915 - INFO - joeynmt.helpers - cfg.model.decoder.num_heads        : 4\n",
            "2021-10-11 03:40:31,915 - INFO - joeynmt.helpers - cfg.model.decoder.embeddings.embedding_dim : 256\n",
            "2021-10-11 03:40:31,915 - INFO - joeynmt.helpers - cfg.model.decoder.embeddings.scale : True\n",
            "2021-10-11 03:40:31,915 - INFO - joeynmt.helpers - cfg.model.decoder.embeddings.dropout : 0.2\n",
            "2021-10-11 03:40:31,915 - INFO - joeynmt.helpers - cfg.model.decoder.hidden_size      : 256\n",
            "2021-10-11 03:40:31,915 - INFO - joeynmt.helpers - cfg.model.decoder.ff_size          : 1024\n",
            "2021-10-11 03:40:31,915 - INFO - joeynmt.helpers - cfg.model.decoder.dropout          : 0.3\n",
            "2021-10-11 03:40:31,915 - INFO - joeynmt.helpers - Data set sizes: \n",
            "\ttrain 937976,\n",
            "\tvalid 1000,\n",
            "\ttest 2711\n",
            "2021-10-11 03:40:31,915 - INFO - joeynmt.helpers - First training example:\n",
            "\t[SRC] Sing@@ ay@@ if@@ inyelela kanjani inhliziyo yom@@ untu on@@ es@@ imo soku@@ ng@@ an@@ aki ?\n",
            "\t[TRG] How might the heart of an ap@@ ath@@ e@@ tic person be re@@ ached ?\n",
            "2021-10-11 03:40:31,916 - INFO - joeynmt.helpers - First 10 words (src): (0) <unk> (1) <pad> (2) <s> (3) </s> (4) , (5) . (6) the (7) : (8) of (9) to\n",
            "2021-10-11 03:40:31,916 - INFO - joeynmt.helpers - First 10 words (trg): (0) <unk> (1) <pad> (2) <s> (3) </s> (4) , (5) . (6) the (7) : (8) of (9) to\n",
            "2021-10-11 03:40:31,916 - INFO - joeynmt.helpers - Number of Src words (types): 4482\n",
            "2021-10-11 03:40:31,916 - INFO - joeynmt.helpers - Number of Trg words (types): 4482\n",
            "2021-10-11 03:40:31,916 - INFO - joeynmt.training - Model(\n",
            "\tencoder=TransformerEncoder(num_layers=6, num_heads=4),\n",
            "\tdecoder=TransformerDecoder(num_layers=6, num_heads=4),\n",
            "\tsrc_embed=Embeddings(embedding_dim=256, vocab_size=4482),\n",
            "\ttrg_embed=Embeddings(embedding_dim=256, vocab_size=4482))\n",
            "2021-10-11 03:40:31,922 - INFO - joeynmt.training - Train stats:\n",
            "\tdevice: cpu\n",
            "\tn_gpu: 0\n",
            "\t16-bits training: False\n",
            "\tgradient accumulation: 1\n",
            "\tbatch size per device: 4096\n",
            "\ttotal batch size (w. parallel & accumulation): 4096\n",
            "2021-10-11 03:40:31,922 - INFO - joeynmt.training - EPOCH 1\n",
            "2021-10-11 03:53:47,889 - INFO - joeynmt.training - Epoch   1, Step:      100, Batch Loss:     5.604417, Tokens per Sec:      185, Lr: 0.000300\n",
            "2021-10-11 04:06:57,828 - INFO - joeynmt.training - Epoch   1, Step:      200, Batch Loss:     5.451519, Tokens per Sec:      190, Lr: 0.000300\n",
            "2021-10-11 04:20:17,057 - INFO - joeynmt.training - Epoch   1, Step:      300, Batch Loss:     5.173980, Tokens per Sec:      189, Lr: 0.000300\n",
            "2021-10-11 04:33:27,855 - INFO - joeynmt.training - Epoch   1, Step:      400, Batch Loss:     4.960122, Tokens per Sec:      186, Lr: 0.000300\n",
            "2021-10-11 04:46:41,018 - INFO - joeynmt.training - Epoch   1, Step:      500, Batch Loss:     4.772717, Tokens per Sec:      188, Lr: 0.000300\n",
            "2021-10-11 04:59:42,961 - INFO - joeynmt.training - Epoch   1, Step:      600, Batch Loss:     4.736882, Tokens per Sec:      186, Lr: 0.000300\n",
            "2021-10-11 05:12:53,017 - INFO - joeynmt.training - Epoch   1, Step:      700, Batch Loss:     4.642226, Tokens per Sec:      186, Lr: 0.000300\n",
            "2021-10-11 05:25:59,761 - INFO - joeynmt.training - Epoch   1, Step:      800, Batch Loss:     4.519300, Tokens per Sec:      188, Lr: 0.000300\n",
            "2021-10-11 05:39:00,647 - INFO - joeynmt.training - Epoch   1, Step:      900, Batch Loss:     4.428717, Tokens per Sec:      196, Lr: 0.000300\n",
            "2021-10-11 05:52:14,744 - INFO - joeynmt.training - Epoch   1, Step:     1000, Batch Loss:     4.378426, Tokens per Sec:      189, Lr: 0.000300\n",
            "2021-10-11 06:24:31,680 - WARNING - sacrebleu - That's 100 lines that end in a tokenized period ('.')\n",
            "2021-10-11 06:24:31,681 - WARNING - sacrebleu - It looks like you forgot to detokenize your test data, which may hurt your score.\n",
            "2021-10-11 06:24:31,681 - WARNING - sacrebleu - If you insist your data is detokenized, or don't care, you can suppress this message with the `force` parameter.\n",
            "2021-10-11 06:24:31,690 - INFO - joeynmt.training - Hooray! New best validation result [ppl]!\n",
            "2021-10-11 06:24:32,440 - INFO - joeynmt.training - Example #0\n",
            "2021-10-11 06:24:32,440 - INFO - joeynmt.training - \tSource:     20 Ungaqonda ukuthi kungani kunjalo ngabaningi .\n",
            "2021-10-11 06:24:32,441 - INFO - joeynmt.training - \tReference:  20 You can understand why that is the case with many .\n",
            "2021-10-11 06:24:32,441 - INFO - joeynmt.training - \tHypothesis: 6 We is not be be to be to be to be .\n",
            "2021-10-11 06:24:32,441 - INFO - joeynmt.training - Example #1\n",
            "2021-10-11 06:24:32,441 - INFO - joeynmt.training - \tSource:     OFakazi BakaJehova endaweni yakini bayokujabulela ukuxoxa nawe okwengeziwe mayelana nemfundo yeBhayibheli eqhutshwa emphakathini wakini . *\n",
            "2021-10-11 06:24:32,441 - INFO - joeynmt.training - \tReference:  Jehovah ’ s Witnesses in your area will be glad to share more information with you about the Bible education program that is currently being carried on in your community . *\n",
            "2021-10-11 06:24:32,441 - INFO - joeynmt.training - \tHypothesis: The Bible ’ s Witnesses of the Bible ’ s Witnesses of the Bible ’ s Witnesses of the Bible ’ s Witnesses and the Bible ’ s Witnesses .\n",
            "2021-10-11 06:24:32,442 - INFO - joeynmt.training - Example #2\n",
            "2021-10-11 06:24:32,442 - INFO - joeynmt.training - \tSource:     Ukuhlakanipha nokuqonda nako kwakubalulekile .\n",
            "2021-10-11 06:24:32,442 - INFO - joeynmt.training - \tReference:  Wisdom and discretion were also important .\n",
            "2021-10-11 06:24:32,442 - INFO - joeynmt.training - \tHypothesis: It is a sain to be be to be to be .\n",
            "2021-10-11 06:24:32,442 - INFO - joeynmt.training - Example #3\n",
            "2021-10-11 06:24:32,442 - INFO - joeynmt.training - \tSource:     Ngemva komhlangano wezizwe eRome ngalelo hlobo , ngaba nelungelo lokuba khona emhlanganweni owawuseNuremberg , eJalimane .\n",
            "2021-10-11 06:24:32,442 - INFO - joeynmt.training - \tReference:  After the international convention in Rome that summer , I was privileged to attend the convention in Nuremberg , Germany .\n",
            "2021-10-11 06:24:32,442 - INFO - joeynmt.training - \tHypothesis: The Bible ’ s Witnesses , the Bible was be been a Bible , and the Bible was a Bible , and the Bible .\n",
            "2021-10-11 06:24:32,443 - INFO - joeynmt.training - Validation result (greedy) at epoch   1, step     1000: bleu:   1.11, loss: 132315.3906, ppl:  79.5839, duration: 1937.6980s\n",
            "2021-10-11 06:37:52,199 - INFO - joeynmt.training - Epoch   1, Step:     1100, Batch Loss:     4.385843, Tokens per Sec:      187, Lr: 0.000300\n",
            "2021-10-11 06:51:07,929 - INFO - joeynmt.training - Epoch   1, Step:     1200, Batch Loss:     4.375926, Tokens per Sec:      191, Lr: 0.000300\n",
            "Traceback (most recent call last):\n",
            "  File \"/usr/lib/python3.7/runpy.py\", line 193, in _run_module_as_main\n",
            "    \"__main__\", mod_spec)\n",
            "  File \"/usr/lib/python3.7/runpy.py\", line 85, in _run_code\n",
            "    exec(code, run_globals)\n",
            "  File \"/content/joeynmt/joeynmt/__main__.py\", line 48, in <module>\n",
            "    main()\n",
            "  File \"/content/joeynmt/joeynmt/__main__.py\", line 35, in main\n",
            "    train(cfg_file=args.config_path, skip_test=args.skip_test)\n",
            "  File \"/content/joeynmt/joeynmt/training.py\", line 846, in train\n",
            "    trainer.train_and_validate(train_data=train_data, valid_data=dev_data)\n",
            "  File \"/content/joeynmt/joeynmt/training.py\", line 447, in train_and_validate\n",
            "    batch_loss += self._train_step(batch)\n",
            "  File \"/content/joeynmt/joeynmt/training.py\", line 539, in _train_step\n",
            "    batch_loss, _, _, _ = self.model(return_type=\"loss\", **vars(batch))\n",
            "  File \"/usr/local/lib/python3.7/dist-packages/torch/nn/modules/module.py\", line 1051, in _call_impl\n",
            "    return forward_call(*input, **kwargs)\n",
            "  File \"/content/joeynmt/joeynmt/model.py\", line 90, in forward\n",
            "    batch_loss = self.loss_function(log_probs, kwargs[\"trg\"])\n",
            "  File \"/usr/local/lib/python3.7/dist-packages/torch/nn/modules/module.py\", line 1051, in _call_impl\n",
            "    return forward_call(*input, **kwargs)\n",
            "  File \"/content/joeynmt/joeynmt/loss.py\", line 77, in forward\n",
            "    log_probs.contiguous().view(-1, log_probs.size(-1)), targets)\n",
            "  File \"/usr/local/lib/python3.7/dist-packages/torch/nn/modules/module.py\", line 1051, in _call_impl\n",
            "    return forward_call(*input, **kwargs)\n",
            "  File \"/usr/local/lib/python3.7/dist-packages/torch/nn/modules/loss.py\", line 462, in forward\n",
            "    return F.kl_div(input, target, reduction=self.reduction, log_target=self.log_target)\n",
            "  File \"/usr/local/lib/python3.7/dist-packages/torch/nn/functional.py\", line 2753, in kl_div\n",
            "    reduced = torch.kl_div(input, target, reduction_enum, log_target=log_target)\n",
            "KeyboardInterrupt\n"
          ]
        }
      ]
    },
    {
      "cell_type": "code",
      "metadata": {
        "id": "MBoDS09JM807",
        "colab": {
          "base_uri": "https://localhost:8080/"
        },
        "outputId": "45bdb61f-7c99-4c67-b935-60e7c7a78c56"
      },
      "source": [
        "# Copy the created models from the notebook storage to google drive for persistant storage \n",
        "!cp -r joeynmt/models/${tgt}${src}_reverse_transformer/* \"$gdrive_path/models/${src}${tgt}_reverse_transformer/\""
      ],
      "execution_count": 18,
      "outputs": [
        {
          "output_type": "stream",
          "name": "stdout",
          "text": [
            "cp: target '/content/drive/My Drive/masakhane/zu-en-baseline/models/enzu_reverse_transformer/' is not a directory\n"
          ]
        }
      ]
    },
    {
      "cell_type": "code",
      "metadata": {
        "id": "n94wlrCjVc17",
        "colab": {
          "base_uri": "https://localhost:8080/"
        },
        "outputId": "71b20ffd-a668-49a5-d13b-dcefef5dc8e9"
      },
      "source": [
        "# Output our validation accuracy\n",
        "! cat \"$gdrive_path/models/${tgt}${src}_reverse_transformer/validations.txt\""
      ],
      "execution_count": 19,
      "outputs": [
        {
          "output_type": "stream",
          "name": "stdout",
          "text": [
            "cat: '/content/drive/My Drive/masakhane/zu-en-baseline/models/zuen_reverse_transformer/validations.txt': No such file or directory\n"
          ]
        }
      ]
    },
    {
      "cell_type": "code",
      "metadata": {
        "id": "66WhRE9lIhoD",
        "colab": {
          "base_uri": "https://localhost:8080/"
        },
        "outputId": "212d89e9-bb6f-4b6c-e1e6-724113ec927d"
      },
      "source": [
        "# Test our model\n",
        "! cd joeynmt; python3 -m joeynmt test \"$gdrive_path/models/${tgt}${src}_reverse_transformer/config.yaml\""
      ],
      "execution_count": 21,
      "outputs": [
        {
          "output_type": "stream",
          "name": "stdout",
          "text": [
            "Traceback (most recent call last):\n",
            "  File \"/usr/lib/python3.7/runpy.py\", line 193, in _run_module_as_main\n",
            "    \"__main__\", mod_spec)\n",
            "  File \"/usr/lib/python3.7/runpy.py\", line 85, in _run_code\n",
            "    exec(code, run_globals)\n",
            "  File \"/content/joeynmt/joeynmt/__main__.py\", line 48, in <module>\n",
            "    main()\n",
            "  File \"/content/joeynmt/joeynmt/__main__.py\", line 38, in main\n",
            "    output_path=args.output_path, save_attention=args.save_attention)\n",
            "  File \"/content/joeynmt/joeynmt/prediction.py\", line 279, in test\n",
            "    cfg = load_config(cfg_file)\n",
            "  File \"/content/joeynmt/joeynmt/helpers.py\", line 180, in load_config\n",
            "    with open(path, 'r', encoding=\"utf-8\") as ymlfile:\n",
            "FileNotFoundError: [Errno 2] No such file or directory: '/content/drive/My Drive/masakhane/zu-en-baseline/models/zuen_reverse_transformer/config.yaml'\n"
          ]
        }
      ]
    }
  ]
}